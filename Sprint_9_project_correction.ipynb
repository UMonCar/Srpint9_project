{
 "cells": [
  {
   "cell_type": "markdown",
   "metadata": {},
   "source": [
    "# Hola Ulises!\n",
    "\n",
    "Mi nombre es David Bautista, soy code reviewer de Tripleten y hoy tengo el gusto de revisar tu proyecto.\n",
    "\n",
    "Cuando vea un error la primera vez, lo señalaré. Deberás encontrarlo y arreglarlo. La intención es que te prepares para un espacio real de trabajo. En un trabajo, el líder de tu equipo hará lo mismo. Si no puedes solucionar el error, te daré más información en la próxima ocasión.\n",
    "\n",
    "Encontrarás mis comentarios más abajo - por favor, no los muevas, no los modifiques ni los borres.\n",
    "\n",
    "¿Cómo lo voy a hacer? Voy a leer detenidamente cada una de las implementaciones que has llevado a cabo para cumplir con lo solicitado. Verás los comentarios de esta forma:\n",
    "\n",
    "<div class=\"alert alert-block alert-success\">\n",
    "<b>Comentario del revisor</b> <a class=\"tocSkip\"></a>\n",
    "    \n",
    "Si todo está perfecto.\n",
    "</div>\n",
    "\n",
    "\n",
    "<div class=\"alert alert-block alert-warning\">\n",
    "<b>Comentario del revisor</b> <a class=\"tocSkip\"></a>\n",
    "    \n",
    "Si tu código está bien pero se puede mejorar o hay algún detalle que le hace falta.\n",
    "</div>\n",
    "\n",
    "\n",
    "<div class=\"alert alert-block alert-danger\">\n",
    "    \n",
    "<b>Comentario del revisor</b> <a class=\"tocSkip\"></a>\n",
    "    \n",
    "Si de pronto hace falta algo o existe algún problema con tu código o conclusiones.\n",
    "</div>\n",
    "\n",
    "\n",
    "Puedes responderme de esta forma: \n",
    "\n",
    "<div class=\"alert alert-block alert-info\">\n",
    "<b>Respuesta del estudiante</b> <a class=\"tocSkip\"></a>\n",
    "</div>\n",
    "\n",
    "¡Empecemos!"
   ]
  },
  {
   "cell_type": "markdown",
   "metadata": {},
   "source": [
    "    \n",
    "<div class=\"alert alert-block alert-danger\">\n",
    "<b>Comentario del revisor</b> <a class=\"tocSkip\"></a>\n",
    "\n",
    "# Comentario General\n",
    "\n",
    "Hola, Uilses. Te felicito por el desarrollo del proyecto hasta el momento. Ahora bien, he dejado diferentes comentarios para que los puedas tener en cuenta para la siguiente entrega/div>    "
   ]
  },
  {
   "cell_type": "markdown",
   "metadata": {},
   "source": [
    "# Sprint 8: Proyecto - Análisis de Negocio"
   ]
  },
  {
   "cell_type": "markdown",
   "metadata": {},
   "source": [
    "-   [Introducción](#introducción)\n",
    "-   [Cargar datos](#cargar-datos)\n",
    "-   [Parte 1. Priorizar Hipótesis](#1-priorizar-hipótesis)\n",
    "-   [Parte 2. Análisis de Test A/B](#2-análisis-de-test-ab)\n",
    "    -   [2.1 Ingreso acumulado por grupo](#21-ingreso-acumulado-por-grupo)\n",
    "    -   [2.2 Tamaño de pedido promedio](#22-tamaño-de-pedido-promedio-acumulado-por-grupo)\n",
    "    -   [2.3 Diferencia relativa en el tamaño del pedido](#23-diferencia-relativa-en-el-tamaño-de-pedido-promedio)\n",
    "    -   [2.4 Tasas de conversión diarias](#24-tasas-de-conversión-diarias)\n",
    "    -   [2.5 Gráfico de dispersiónn del número de pedidos por usuario](#25-gráfico-de-dispersión-del-número-de-pedidos-por-usuario)\n",
    "    -   [2.6 Percentiles para el número de pedidos por usuario](#26-percentiles-95-y-99-para-el-número-de-pedidos-por-usuario)\n",
    "    -   [2.7 Gráfico de dispersión de los precios de los pedidos](#27-gráfico-de-dispersión-de-los-precios-de-los-pedidos)\n",
    "    -   [2.8 Percentiles 95 y 99 de los precios de los pedidos](#28-percentiles-95-y-99-de-los-precios-de-los-pedidos)\n",
    "    -   [2.9 Significancia estadística de la diferencia en la conversión con datos en bruto](#29-significancia-estadística-de-la-diferencia-en-la-conversión-con-datos-en-bruto)\n",
    "    -   [2.10 Significancia estadística de la diferencia en el tamaño promedio de pedido](#210-significancia-estadística-de-la-diferencia-en-el-tamaño-promedio-de-pedido)\n",
    "    -   [2.11 Significancia estadística de la diferencia en la conversión entre los grupos utilizando los datos filtrados](#211--significancia-estadística-de-la-diferencia-en-la-conversión-entre-los-grupos-utilizando-los-datos-filtrados)\n",
    "    -   [2.12 Significancia estadística de la diferencia en el tamaño promedio de pedido entre los grupos utilizando los datos filtrados](#212-significancia-estadística-de-la-diferencia-en-el-tamaño-promedio-de-pedido-entre-los-grupos-utilizando-los-datos-filtrados)\n",
    "    -   [2.13 Toma de decisiones](#213-toma-de-decisiones)\n",
    "-   [Conclusiones](#conclusión-general)"
   ]
  },
  {
   "cell_type": "markdown",
   "metadata": {},
   "source": [
    "## Introducción\n",
    "\n",
    "<b> Contexto </b>\n",
    "\n",
    "Eres analista en una gran tienda en línea. Junto con el departamento de marketing has recopilado una lista de hipótesis que pueden ayudar a aumentar los ingresos. \n",
    "\n",
    "Tienes que priorizar estas hipótesis, lanzar un test A/B y analizar los resultados.\n",
    "\n",
    "<b> Descripción de los datos </b>\n",
    "\n",
    "    Datos utilizados en la primera parte del proyecto\n",
    "\n",
    "/datasets/hypotheses_us.csv Descarga el dataset\n",
    "    \n",
    "    • Hypotheses: breves descripciones de las hipótesis\n",
    "    • Reach: alcance del usuario, en una escala del uno a diez\n",
    "    • Impact: impacto en los usuarios, en una escala del uno al diez\n",
    "    • Confidence: confianza en la hipótesis, en una escala del uno al diez\n",
    "    • Effort: los recursos necesarios para probar una hipótesis, en una escala del uno al diez. Cuanto mayor sea el valor Effort, más recursos requiere la prueba.\n",
    "\n",
    "    Datos utilizados en la segunda parte del proyecto\n",
    "\n",
    "/datasets/orders_us.csv Descarga el dataset\n",
    "    \n",
    "    • transactionId: identificador de pedido\n",
    "    • visitorId: identificador del usuario que realizó el pedido\n",
    "    • date: fecha del pedido\n",
    "    • revenue: ingresos del pedido\n",
    "    • group: el grupo del test A/B al que pertenece el usuario\n",
    "\n",
    "/datasets/visits_us.csv Descarga el dataset\n",
    "    \n",
    "    • date: la fecha\n",
    "    • group: grupo del test A/B\n",
    "    • visits: el número de visitas en la fecha especificada para el grupo de test A/B especificado\n",
    "\n",
    "Asegúrate de preprocesar los datos. Es posible que haya errores en los datasets originales; por ejemplo, algunos de los visitantes podrían haber entrado tanto en el grupo A como en el grupo B.\n",
    "\n",
    "<b> Parte 1. Priorizar hipótesis </b>\n",
    "\n",
    "El archivo hypotheses_us.csv contiene nueve hipótesis sobre cómo aumentar los ingresos de una tienda en línea con Reach, Impact, Confidence y Effort especificados para cada una.\n",
    "El ejercicio consiste en:\n",
    "    • Aplicar el framework ICE para priorizar hipótesis. Ordenarlas en orden descendente de prioridad.\n",
    "    • Aplicar el framework RICE para priorizar hipótesis. Ordenarlas en orden descendente de prioridad.\n",
    "    • Mostrar cómo cambia la priorización de hipótesis cuando utilizas RICE en lugar de ICE. Proporcionar una explicación de los cambios.\n",
    "\n",
    "<b> Parte 2. Análisis de test A/B </b>\n",
    "\n",
    "Realizaste un test A/B y obtuviste los resultados descritos en los archivos orders_us.csv y visitors_us.csv.\n",
    "\n",
    "Ejercicio\n",
    "\n",
    "Analiza el test A/B:\n",
    "    \n",
    "    1. Representa gráficamente el ingreso acumulado por grupo. Haz conclusiones y conjeturas.\n",
    "    \n",
    "    2. Representa gráficamente el tamaño de pedido promedio acumulado por grupo. Haz conclusiones y conjeturas.\n",
    "    \n",
    "    3. Representa gráficamente la diferencia relativa en el tamaño de pedido promedio acumulado para el grupo B en comparación con el grupo A. Haz conclusiones y conjeturas.\n",
    "    \n",
    "    4. Calcula la tasa de conversión de cada grupo como la relación entre los pedidos y el número de visitas de cada día. Representa gráficamente las tasas de conversión diarias de los dos grupos y describe la diferencia. Saca conclusiones y haz conjeturas.\n",
    "    \n",
    "    5. Traza un gráfico de dispersión del número de pedidos por usuario. Haz conclusiones y conjeturas.\n",
    "    \n",
    "    6. Calcula los percentiles 95 y 99 para el número de pedidos por usuario. Define el punto en el cual un punto de datos se convierte en una anomalía.\n",
    "    \n",
    "    7. Traza un gráfico de dispersión de los precios de los pedidos. Haz conclusiones y conjeturas.\n",
    "    \n",
    "    8. Calcula los percentiles 95 y 99 de los precios de los pedidos. Define el punto en el cual un punto de datos se convierte en una anomalía.\n",
    "    \n",
    "    9. Encuentra la significancia estadística de la diferencia en la conversión entre los grupos utilizando los datos en bruto. Haz conclusiones y conjeturas.\n",
    "    \n",
    "    10. Encuentra la significancia estadística de la diferencia en el tamaño promedio de pedido entre los grupos utilizando los datos en bruto. Haz conclusiones y conjeturas.\n",
    "    \n",
    "    11. Encuentra la significancia estadística de la diferencia en la conversión entre los grupos utilizando los datos filtrados. Haz conclusiones y conjeturas.\n",
    "    \n",
    "    12. Encuentra la significancia estadística de la diferencia en el tamaño promedio de pedido entre los grupos utilizando los datos filtrados. Haz conclusiones y conjeturas.\n",
    "    \n",
    "    13. Toma una decisión basada en los resultados de la prueba. Las decisiones posibles son: 1. Para la prueba, considera a uno de los grupos como líder. 2. Para la prueba, concluye que no hay diferencia entre los grupos. 3. Continúa la prueba.\n",
    "\n"
   ]
  },
  {
   "cell_type": "markdown",
   "metadata": {},
   "source": [
    "    \n",
    "<div class=\"alert alert-block alert-success\">\n",
    "<b>Comentario del revisor</b> <a class=\"tocSkip\"></a>\n",
    "\n",
    "Perfecto, buen trabajo estableciendo esta sección de introducción e instrucciones del proyecto.  </div>    "
   ]
  },
  {
   "cell_type": "markdown",
   "metadata": {},
   "source": [
    "## Cargar datos\n",
    "\n",
    "Se creó una función para cargar los datos de los archivos CSV ya que se llamará en más de una ocasión a lo largo del código."
   ]
  },
  {
   "cell_type": "code",
   "execution_count": 1,
   "metadata": {},
   "outputs": [],
   "source": [
    "# Cargar todas las librerías\n",
    "from scipy import stats as st\n",
    "import numpy as np\n",
    "import pandas as pd\n",
    "import math as mt\n",
    "from matplotlib import pyplot as plt\n",
    "import seaborn as sns\n",
    "import plotly.express as px\n",
    "import re\n",
    "from IPython.display import Image, display\n",
    "import os\n",
    "import datetime as dt"
   ]
  },
  {
   "cell_type": "markdown",
   "metadata": {},
   "source": [
    "    \n",
    "<div class=\"alert alert-block alert-success\">\n",
    "<b>Comentario del revisor</b> <a class=\"tocSkip\"></a>\n",
    "\n",
    "Perfecto, buen trabajo importando las librerías necesarias para el desarrollo del proyecto.  </div>    "
   ]
  },
  {
   "cell_type": "code",
   "execution_count": 2,
   "metadata": {},
   "outputs": [],
   "source": [
    "def data_load():\t\n",
    "    ruta_archivo = os.path.join('datasets', 'hypotheses_us.csv')\n",
    "    hypotheses = pd.read_csv(\n",
    "\t    ruta_archivo,\n",
    "        sep= ';' \n",
    "\t    # dtype={'source_id': 'category'}, \n",
    "\t    # parse_dates=['dt'], \n",
    "\t    # nrows=500\n",
    "\t    )\n",
    "    ruta_archivo = os.path.join('datasets', 'orders_us.csv')\n",
    "    orders = pd.read_csv(\n",
    "\t    ruta_archivo\n",
    "\t    # dtype={'group': 'category'}\n",
    "\t    # parse_dates=['dt'], \n",
    "\t    # nrows=500\n",
    "\t    )\n",
    "    ruta_archivo = os.path.join('datasets', 'visits_us.csv')\n",
    "    visits = pd.read_csv(\n",
    "\t    ruta_archivo\n",
    "\t    # dtype={'group': 'category'}\n",
    "\t    # parse_dates=['dt'], \n",
    "\t    # nrows=500\n",
    "\t    )\n",
    "    return hypotheses, orders, visits\n",
    "\n",
    "[hypotheses, orders, visits] = data_load()"
   ]
  },
  {
   "cell_type": "code",
   "execution_count": 3,
   "metadata": {},
   "outputs": [
    {
     "name": "stdout",
     "output_type": "stream",
     "text": [
      "<class 'pandas.core.frame.DataFrame'>\n",
      "RangeIndex: 9 entries, 0 to 8\n",
      "Data columns (total 5 columns):\n",
      " #   Column      Non-Null Count  Dtype \n",
      "---  ------      --------------  ----- \n",
      " 0   Hypothesis  9 non-null      object\n",
      " 1   Reach       9 non-null      int64 \n",
      " 2   Impact      9 non-null      int64 \n",
      " 3   Confidence  9 non-null      int64 \n",
      " 4   Effort      9 non-null      int64 \n",
      "dtypes: int64(4), object(1)\n",
      "memory usage: 492.0+ bytes\n"
     ]
    }
   ],
   "source": [
    "hypotheses.info(memory_usage= True)"
   ]
  },
  {
   "cell_type": "code",
   "execution_count": 4,
   "metadata": {},
   "outputs": [
    {
     "name": "stdout",
     "output_type": "stream",
     "text": [
      "<class 'pandas.core.frame.DataFrame'>\n",
      "RangeIndex: 1197 entries, 0 to 1196\n",
      "Data columns (total 5 columns):\n",
      " #   Column         Non-Null Count  Dtype  \n",
      "---  ------         --------------  -----  \n",
      " 0   transactionId  1197 non-null   int64  \n",
      " 1   visitorId      1197 non-null   int64  \n",
      " 2   date           1197 non-null   object \n",
      " 3   revenue        1197 non-null   float64\n",
      " 4   group          1197 non-null   object \n",
      "dtypes: float64(1), int64(2), object(2)\n",
      "memory usage: 46.9+ KB\n"
     ]
    }
   ],
   "source": [
    "orders.info(memory_usage= True)"
   ]
  },
  {
   "cell_type": "code",
   "execution_count": 5,
   "metadata": {},
   "outputs": [
    {
     "data": {
      "text/html": [
       "<div>\n",
       "<style scoped>\n",
       "    .dataframe tbody tr th:only-of-type {\n",
       "        vertical-align: middle;\n",
       "    }\n",
       "\n",
       "    .dataframe tbody tr th {\n",
       "        vertical-align: top;\n",
       "    }\n",
       "\n",
       "    .dataframe thead th {\n",
       "        text-align: right;\n",
       "    }\n",
       "</style>\n",
       "<table border=\"1\" class=\"dataframe\">\n",
       "  <thead>\n",
       "    <tr style=\"text-align: right;\">\n",
       "      <th></th>\n",
       "      <th>transactionId</th>\n",
       "      <th>visitorId</th>\n",
       "      <th>date</th>\n",
       "      <th>revenue</th>\n",
       "      <th>group</th>\n",
       "    </tr>\n",
       "  </thead>\n",
       "  <tbody>\n",
       "    <tr>\n",
       "      <th>816</th>\n",
       "      <td>3585957438</td>\n",
       "      <td>3229395114</td>\n",
       "      <td>2019-08-21</td>\n",
       "      <td>125.9</td>\n",
       "      <td>A</td>\n",
       "    </tr>\n",
       "    <tr>\n",
       "      <th>725</th>\n",
       "      <td>2309447140</td>\n",
       "      <td>2913441496</td>\n",
       "      <td>2019-08-07</td>\n",
       "      <td>25.9</td>\n",
       "      <td>B</td>\n",
       "    </tr>\n",
       "    <tr>\n",
       "      <th>452</th>\n",
       "      <td>3367644853</td>\n",
       "      <td>2307676173</td>\n",
       "      <td>2019-08-06</td>\n",
       "      <td>85.1</td>\n",
       "      <td>B</td>\n",
       "    </tr>\n",
       "    <tr>\n",
       "      <th>951</th>\n",
       "      <td>965979600</td>\n",
       "      <td>48147722</td>\n",
       "      <td>2019-08-22</td>\n",
       "      <td>20.8</td>\n",
       "      <td>B</td>\n",
       "    </tr>\n",
       "    <tr>\n",
       "      <th>336</th>\n",
       "      <td>3745550734</td>\n",
       "      <td>1703949673</td>\n",
       "      <td>2019-08-25</td>\n",
       "      <td>125.1</td>\n",
       "      <td>B</td>\n",
       "    </tr>\n",
       "    <tr>\n",
       "      <th>974</th>\n",
       "      <td>836739159</td>\n",
       "      <td>4283872382</td>\n",
       "      <td>2019-08-22</td>\n",
       "      <td>60.6</td>\n",
       "      <td>B</td>\n",
       "    </tr>\n",
       "    <tr>\n",
       "      <th>398</th>\n",
       "      <td>2084190534</td>\n",
       "      <td>3673190339</td>\n",
       "      <td>2019-08-28</td>\n",
       "      <td>60.8</td>\n",
       "      <td>A</td>\n",
       "    </tr>\n",
       "    <tr>\n",
       "      <th>1135</th>\n",
       "      <td>453686528</td>\n",
       "      <td>2134820861</td>\n",
       "      <td>2019-08-13</td>\n",
       "      <td>295.7</td>\n",
       "      <td>A</td>\n",
       "    </tr>\n",
       "    <tr>\n",
       "      <th>1093</th>\n",
       "      <td>3894437543</td>\n",
       "      <td>276558944</td>\n",
       "      <td>2019-08-12</td>\n",
       "      <td>80.7</td>\n",
       "      <td>A</td>\n",
       "    </tr>\n",
       "    <tr>\n",
       "      <th>400</th>\n",
       "      <td>2061627240</td>\n",
       "      <td>1402025725</td>\n",
       "      <td>2019-08-28</td>\n",
       "      <td>90.5</td>\n",
       "      <td>A</td>\n",
       "    </tr>\n",
       "  </tbody>\n",
       "</table>\n",
       "</div>"
      ],
      "text/plain": [
       "      transactionId   visitorId        date  revenue group\n",
       "816      3585957438  3229395114  2019-08-21    125.9     A\n",
       "725      2309447140  2913441496  2019-08-07     25.9     B\n",
       "452      3367644853  2307676173  2019-08-06     85.1     B\n",
       "951       965979600    48147722  2019-08-22     20.8     B\n",
       "336      3745550734  1703949673  2019-08-25    125.1     B\n",
       "974       836739159  4283872382  2019-08-22     60.6     B\n",
       "398      2084190534  3673190339  2019-08-28     60.8     A\n",
       "1135      453686528  2134820861  2019-08-13    295.7     A\n",
       "1093     3894437543   276558944  2019-08-12     80.7     A\n",
       "400      2061627240  1402025725  2019-08-28     90.5     A"
      ]
     },
     "execution_count": 5,
     "metadata": {},
     "output_type": "execute_result"
    }
   ],
   "source": [
    "orders.sample(10, random_state= 4123)"
   ]
  },
  {
   "cell_type": "code",
   "execution_count": 6,
   "metadata": {},
   "outputs": [
    {
     "name": "stdout",
     "output_type": "stream",
     "text": [
      "<class 'pandas.core.frame.DataFrame'>\n",
      "RangeIndex: 62 entries, 0 to 61\n",
      "Data columns (total 3 columns):\n",
      " #   Column  Non-Null Count  Dtype \n",
      "---  ------  --------------  ----- \n",
      " 0   date    62 non-null     object\n",
      " 1   group   62 non-null     object\n",
      " 2   visits  62 non-null     int64 \n",
      "dtypes: int64(1), object(2)\n",
      "memory usage: 1.6+ KB\n"
     ]
    }
   ],
   "source": [
    "visits.info(memory_usage= True)"
   ]
  },
  {
   "cell_type": "code",
   "execution_count": 7,
   "metadata": {},
   "outputs": [
    {
     "data": {
      "text/html": [
       "<div>\n",
       "<style scoped>\n",
       "    .dataframe tbody tr th:only-of-type {\n",
       "        vertical-align: middle;\n",
       "    }\n",
       "\n",
       "    .dataframe tbody tr th {\n",
       "        vertical-align: top;\n",
       "    }\n",
       "\n",
       "    .dataframe thead th {\n",
       "        text-align: right;\n",
       "    }\n",
       "</style>\n",
       "<table border=\"1\" class=\"dataframe\">\n",
       "  <thead>\n",
       "    <tr style=\"text-align: right;\">\n",
       "      <th></th>\n",
       "      <th>date</th>\n",
       "      <th>group</th>\n",
       "      <th>visits</th>\n",
       "    </tr>\n",
       "  </thead>\n",
       "  <tbody>\n",
       "    <tr>\n",
       "      <th>33</th>\n",
       "      <td>2019-08-03</td>\n",
       "      <td>B</td>\n",
       "      <td>509</td>\n",
       "    </tr>\n",
       "    <tr>\n",
       "      <th>26</th>\n",
       "      <td>2019-08-27</td>\n",
       "      <td>A</td>\n",
       "      <td>711</td>\n",
       "    </tr>\n",
       "    <tr>\n",
       "      <th>21</th>\n",
       "      <td>2019-08-22</td>\n",
       "      <td>A</td>\n",
       "      <td>609</td>\n",
       "    </tr>\n",
       "    <tr>\n",
       "      <th>40</th>\n",
       "      <td>2019-08-10</td>\n",
       "      <td>B</td>\n",
       "      <td>369</td>\n",
       "    </tr>\n",
       "    <tr>\n",
       "      <th>10</th>\n",
       "      <td>2019-08-11</td>\n",
       "      <td>A</td>\n",
       "      <td>718</td>\n",
       "    </tr>\n",
       "    <tr>\n",
       "      <th>47</th>\n",
       "      <td>2019-08-17</td>\n",
       "      <td>B</td>\n",
       "      <td>421</td>\n",
       "    </tr>\n",
       "    <tr>\n",
       "      <th>43</th>\n",
       "      <td>2019-08-13</td>\n",
       "      <td>B</td>\n",
       "      <td>769</td>\n",
       "    </tr>\n",
       "    <tr>\n",
       "      <th>61</th>\n",
       "      <td>2019-08-31</td>\n",
       "      <td>B</td>\n",
       "      <td>718</td>\n",
       "    </tr>\n",
       "    <tr>\n",
       "      <th>35</th>\n",
       "      <td>2019-08-05</td>\n",
       "      <td>B</td>\n",
       "      <td>707</td>\n",
       "    </tr>\n",
       "    <tr>\n",
       "      <th>49</th>\n",
       "      <td>2019-08-19</td>\n",
       "      <td>B</td>\n",
       "      <td>487</td>\n",
       "    </tr>\n",
       "  </tbody>\n",
       "</table>\n",
       "</div>"
      ],
      "text/plain": [
       "          date group  visits\n",
       "33  2019-08-03     B     509\n",
       "26  2019-08-27     A     711\n",
       "21  2019-08-22     A     609\n",
       "40  2019-08-10     B     369\n",
       "10  2019-08-11     A     718\n",
       "47  2019-08-17     B     421\n",
       "43  2019-08-13     B     769\n",
       "61  2019-08-31     B     718\n",
       "35  2019-08-05     B     707\n",
       "49  2019-08-19     B     487"
      ]
     },
     "execution_count": 7,
     "metadata": {},
     "output_type": "execute_result"
    }
   ],
   "source": [
    "visits.sample(10, random_state= 4123)"
   ]
  },
  {
   "cell_type": "markdown",
   "metadata": {},
   "source": [
    "    \n",
    "<div class=\"alert alert-block alert-success\">\n",
    "<b>Comentario del revisor</b> <a class=\"tocSkip\"></a>\n",
    "\n",
    "Perfecto, Ulises, buen trabajo cargando los datasets y explorando de manera inicial el contenido de cada uno de ellos.  </div>    "
   ]
  },
  {
   "cell_type": "markdown",
   "metadata": {},
   "source": [
    "## 1. Priorizar hipótesis"
   ]
  },
  {
   "cell_type": "code",
   "execution_count": 8,
   "metadata": {},
   "outputs": [],
   "source": [
    "hypotheses.columns = ['hypothesis', 'reach', 'impact', 'confidence', 'effort']\n",
    "hypotheses['hypothesisId'] = range(0, len(hypotheses['hypothesis']))"
   ]
  },
  {
   "cell_type": "code",
   "execution_count": 9,
   "metadata": {},
   "outputs": [
    {
     "data": {
      "text/html": [
       "<div>\n",
       "<style scoped>\n",
       "    .dataframe tbody tr th:only-of-type {\n",
       "        vertical-align: middle;\n",
       "    }\n",
       "\n",
       "    .dataframe tbody tr th {\n",
       "        vertical-align: top;\n",
       "    }\n",
       "\n",
       "    .dataframe thead th {\n",
       "        text-align: right;\n",
       "    }\n",
       "</style>\n",
       "<table border=\"1\" class=\"dataframe\">\n",
       "  <thead>\n",
       "    <tr style=\"text-align: right;\">\n",
       "      <th></th>\n",
       "      <th>hypothesis</th>\n",
       "      <th>reach</th>\n",
       "      <th>impact</th>\n",
       "      <th>confidence</th>\n",
       "      <th>effort</th>\n",
       "      <th>hypothesisId</th>\n",
       "    </tr>\n",
       "  </thead>\n",
       "  <tbody>\n",
       "    <tr>\n",
       "      <th>0</th>\n",
       "      <td>Add two new channels for attracting traffic. T...</td>\n",
       "      <td>3</td>\n",
       "      <td>10</td>\n",
       "      <td>8</td>\n",
       "      <td>6</td>\n",
       "      <td>0</td>\n",
       "    </tr>\n",
       "    <tr>\n",
       "      <th>1</th>\n",
       "      <td>Launch your own delivery service. This will sh...</td>\n",
       "      <td>2</td>\n",
       "      <td>5</td>\n",
       "      <td>4</td>\n",
       "      <td>10</td>\n",
       "      <td>1</td>\n",
       "    </tr>\n",
       "    <tr>\n",
       "      <th>2</th>\n",
       "      <td>Add product recommendation blocks to the store...</td>\n",
       "      <td>8</td>\n",
       "      <td>3</td>\n",
       "      <td>7</td>\n",
       "      <td>3</td>\n",
       "      <td>2</td>\n",
       "    </tr>\n",
       "    <tr>\n",
       "      <th>3</th>\n",
       "      <td>Change the category structure. This will incre...</td>\n",
       "      <td>8</td>\n",
       "      <td>3</td>\n",
       "      <td>3</td>\n",
       "      <td>8</td>\n",
       "      <td>3</td>\n",
       "    </tr>\n",
       "    <tr>\n",
       "      <th>4</th>\n",
       "      <td>Change the background color on the main page. ...</td>\n",
       "      <td>3</td>\n",
       "      <td>1</td>\n",
       "      <td>1</td>\n",
       "      <td>1</td>\n",
       "      <td>4</td>\n",
       "    </tr>\n",
       "    <tr>\n",
       "      <th>5</th>\n",
       "      <td>Add a customer review page. This will increase...</td>\n",
       "      <td>3</td>\n",
       "      <td>2</td>\n",
       "      <td>2</td>\n",
       "      <td>3</td>\n",
       "      <td>5</td>\n",
       "    </tr>\n",
       "    <tr>\n",
       "      <th>6</th>\n",
       "      <td>Show banners with current offers and sales on ...</td>\n",
       "      <td>5</td>\n",
       "      <td>3</td>\n",
       "      <td>8</td>\n",
       "      <td>3</td>\n",
       "      <td>6</td>\n",
       "    </tr>\n",
       "    <tr>\n",
       "      <th>7</th>\n",
       "      <td>Add a subscription form to all the main pages....</td>\n",
       "      <td>10</td>\n",
       "      <td>7</td>\n",
       "      <td>8</td>\n",
       "      <td>5</td>\n",
       "      <td>7</td>\n",
       "    </tr>\n",
       "    <tr>\n",
       "      <th>8</th>\n",
       "      <td>Launch a promotion that gives users discounts ...</td>\n",
       "      <td>1</td>\n",
       "      <td>9</td>\n",
       "      <td>9</td>\n",
       "      <td>5</td>\n",
       "      <td>8</td>\n",
       "    </tr>\n",
       "  </tbody>\n",
       "</table>\n",
       "</div>"
      ],
      "text/plain": [
       "                                          hypothesis  reach  impact  \\\n",
       "0  Add two new channels for attracting traffic. T...      3      10   \n",
       "1  Launch your own delivery service. This will sh...      2       5   \n",
       "2  Add product recommendation blocks to the store...      8       3   \n",
       "3  Change the category structure. This will incre...      8       3   \n",
       "4  Change the background color on the main page. ...      3       1   \n",
       "5  Add a customer review page. This will increase...      3       2   \n",
       "6  Show banners with current offers and sales on ...      5       3   \n",
       "7  Add a subscription form to all the main pages....     10       7   \n",
       "8  Launch a promotion that gives users discounts ...      1       9   \n",
       "\n",
       "   confidence  effort  hypothesisId  \n",
       "0           8       6             0  \n",
       "1           4      10             1  \n",
       "2           7       3             2  \n",
       "3           3       8             3  \n",
       "4           1       1             4  \n",
       "5           2       3             5  \n",
       "6           8       3             6  \n",
       "7           8       5             7  \n",
       "8           9       5             8  "
      ]
     },
     "execution_count": 9,
     "metadata": {},
     "output_type": "execute_result"
    }
   ],
   "source": [
    "hypotheses"
   ]
  },
  {
   "cell_type": "code",
   "execution_count": 10,
   "metadata": {},
   "outputs": [
    {
     "name": "stdout",
     "output_type": "stream",
     "text": [
      "   hypothesisId        ICE\n",
      "8             8  16.200000\n",
      "0             0  13.333333\n",
      "7             7  11.200000\n",
      "6             6   8.000000\n",
      "2             2   7.000000\n",
      "1             1   2.000000\n",
      "5             5   1.333333\n",
      "3             3   1.125000\n",
      "4             4   1.000000\n"
     ]
    }
   ],
   "source": [
    "hypotheses['ICE'] = ((hypotheses['impact'] * hypotheses['confidence']) / hypotheses['effort'])\n",
    "\n",
    "print(hypotheses[['hypothesisId', 'ICE']].sort_values(by = 'ICE', ascending = False))"
   ]
  },
  {
   "cell_type": "code",
   "execution_count": 11,
   "metadata": {},
   "outputs": [
    {
     "name": "stdout",
     "output_type": "stream",
     "text": [
      "   hypothesisId   RICE\n",
      "7             7  112.0\n",
      "2             2   56.0\n",
      "0             0   40.0\n",
      "6             6   40.0\n",
      "8             8   16.2\n",
      "3             3    9.0\n",
      "1             1    4.0\n",
      "5             5    4.0\n",
      "4             4    3.0\n"
     ]
    }
   ],
   "source": [
    "hypotheses['RICE'] = ((hypotheses['reach'] * hypotheses['impact'] * hypotheses['confidence']) / hypotheses['effort'])\n",
    "\n",
    "print(hypotheses[['hypothesisId', 'RICE']].sort_values(by = 'RICE', ascending = False))"
   ]
  },
  {
   "cell_type": "markdown",
   "metadata": {},
   "source": [
    "<b> Cambios en la Priorización </b>\n",
    "\n",
    "1. **HypothesisId 7:**\n",
    "   - **ICE:** Está en la tercera posición.\n",
    "   - **RICE:** Sube a la primera posición.\n",
    "   - **Explicación:** La hipótesis 7 probablemente tiene un alto valor de alcance (Reach) en el cálculo de RICE, lo que la hace mucho más prioritaria cuando se considera el número de personas afectadas o beneficiadas por la implementación de esta hipótesis.\n",
    "\n",
    "2. **HypothesisId 8:**\n",
    "   - **ICE:** Está en la primera posición.\n",
    "   - **RICE:** Baja a la quinta posición.\n",
    "   - **Explicación:** Aunque la hipótesis 8 es muy efectiva y fácil de implementar (como sugiere su alta puntuación ICE), su valor de alcance es probablemente bajo, reduciendo su prioridad en el modelo RICE.\n",
    "\n",
    "3. **HypothesisId 2:**\n",
    "   - **ICE:** Está en la quinta posición.\n",
    "   - **RICE:** Sube a la segunda posición.\n",
    "   - **Explicación:** La hipótesis 2, como la 7, parece beneficiarse significativamente al considerar su alcance, aumentando su prioridad en RICE.\n",
    "\n",
    "4. **HypothesisId 0 y 6:**\n",
    "   - **ICE:** HypothesisId 0 está en segunda posición y 6 en cuarta.\n",
    "   - **RICE:** Ambas hipótesis están empatadas en la tercera posición.\n",
    "   - **Explicación:** El alcance parece mejorar ligeramente la posición de la hipótesis 6 y mantiene alta la de la hipótesis 0, aunque hay un cambio en cómo se priorizan en relación con otras.\n",
    "\n",
    "<b> Conclusión </b>\n",
    "\n",
    "El cambio de ICE a RICE tiene un impacto significativo en la priorización de hipótesis porque el modelo RICE introduce el factor de alcance (Reach), que mide cuántas personas se verán afectadas por la implementación de la hipótesis. Esto puede hacer que algunas hipótesis que antes eran menos prioritarias (debido a un bajo puntaje ICE) suban en la lista si tienen un gran impacto potencial en la audiencia. De esta forma, RICE permite una evaluación más completa al considerar tanto la facilidad y efectividad de implementación como el alcance potencial del cambio.\n",
    "\n",
    "<b> Comparación de resultados de ICE y RICE </b>"
   ]
  },
  {
   "cell_type": "code",
   "execution_count": 12,
   "metadata": {},
   "outputs": [
    {
     "name": "stdout",
     "output_type": "stream",
     "text": [
      "   hypothesisId        ICE   RICE\n",
      "0             0  13.333333   40.0\n",
      "1             1   2.000000    4.0\n",
      "2             2   7.000000   56.0\n",
      "3             3   1.125000    9.0\n",
      "4             4   1.000000    3.0\n",
      "5             5   1.333333    4.0\n",
      "6             6   8.000000   40.0\n",
      "7             7  11.200000  112.0\n",
      "8             8  16.200000   16.2\n"
     ]
    }
   ],
   "source": [
    "print(hypotheses[['hypothesisId', 'ICE', 'RICE']])"
   ]
  },
  {
   "cell_type": "markdown",
   "metadata": {},
   "source": [
    "<b> Cambios Notables al Usar RICE </b>\n",
    "\n",
    "1. **HypothesisId 7:**\n",
    "   - **ICE:** 11.2, **RICE:** 112.0\n",
    "   - En ICE, está en una posición alta (tercera) con una puntuación decente, pero en RICE, esta hipótesis sube drásticamente al primer lugar debido a un alto valor de alcance (Reach). El incremento en la puntuación refleja que esta hipótesis tiene un impacto potencial en una gran cantidad de personas o usuarios.\n",
    "\n",
    "2. **HypothesisId 8:**\n",
    "   - **ICE:** 16.2, **RICE:** 16.2\n",
    "   - En ICE, esta hipótesis es la más prioritaria. Sin embargo, en RICE, cae a una posición intermedia. Esto sugiere que, aunque la hipótesis tiene un alto impacto y es fácil de implementar, su alcance es limitado, lo que la hace menos prioritaria cuando se considera cuántos usuarios se beneficiarán.\n",
    "\n",
    "3. **HypothesisId 2:**\n",
    "   - **ICE:** 7.00, **RICE:** 56.0\n",
    "   - Con ICE, esta hipótesis ocupa una posición media, pero en RICE su puntuación aumenta significativamente. Esto indica que tiene un alcance considerable, lo que la hace mucho más prioritaria al considerar su impacto potencial.\n",
    "\n",
    "4. **HypothesisId 6:**\n",
    "   - **ICE:** 8.00, **RICE:** 40.0\n",
    "   - Esta hipótesis se mantiene en una posición alta tanto en ICE como en RICE, aunque sube un poco más en la priorización con RICE, lo que sugiere que también tiene un impacto considerable en términos de alcance.\n",
    "\n",
    "5. **HypothesisId 0:**\n",
    "   - **ICE:** 13.33, **RICE:** 40.0\n",
    "   - En ambos métodos, la hipótesis 0 se mantiene como una de las más importantes. Aunque no sufre un cambio tan dramático como otros, en RICE se refuerza su importancia debido a un buen balance entre impacto, facilidad de implementación y alcance.\n",
    "\n",
    "6. **HypothesisId 3:**\n",
    "   - **ICE:** 1.13, **RICE:** 9.0\n",
    "   - Esta hipótesis tiene una puntuación baja en ambos métodos, pero en RICE se mejora su posición. Esto indica que su alcance es algo mayor de lo que sugiere el modelo ICE.\n",
    "\n",
    "7. **Hypotheses 1, 4 y 5:**\n",
    "   - En ambos métodos, estas hipótesis tienen bajas puntuaciones, lo que indica que no son prioritarias ni por impacto, ni por facilidad, ni por alcance.\n",
    "\n",
    "<b> Conclusión </b>\n",
    "\n",
    "- **RICE** cambia significativamente la priorización de las hipótesis al introducir el factor de **alcance (Reach)**, que mide cuántas personas o usuarios se verán afectados por cada hipótesis.\n",
    "- Las hipótesis con un alto valor de **alcance** como la 7 y la 2 suben en la lista con RICE, mientras que aquellas con un impacto limitado, como la 8, caen a posiciones más bajas.\n",
    "- El modelo **ICE** es útil cuando solo se considera el impacto, la confianza y el esfuerzo, pero **RICE** proporciona una evaluación más completa al incluir el alcance, lo que es crucial cuando el objetivo es maximizar el beneficio para la mayor cantidad de usuarios."
   ]
  },
  {
   "cell_type": "markdown",
   "metadata": {},
   "source": [
    "    \n",
    "<div class=\"alert alert-block alert-danger\">\n",
    "<b>Comentario del revisor</b> <a class=\"tocSkip\"></a>\n",
    "\n",
    "Buen trabajo desplegando el framework RICE e ICE Ulises. Ahora bien, lo único adicional que sería interesante desarrollar, es poder comprar en una sola tabla los valores de los dos frameworks para cada hipótesis.   </div>    "
   ]
  },
  {
   "cell_type": "markdown",
   "metadata": {},
   "source": [
    "    \n",
    "<div class=\"alert alert-block alert-danger\">\n",
    "<b>Comentario del revisor</b> <a class=\"tocSkip\"></a>\n",
    "\n",
    "# Comentario Importante\n",
    "\n",
    "Hola, Ulises, te felicito por el desarrollo del proyecto hasta el momento. Ahora bien, hay un aspecto importante que se debe tener en cuenta antes de dar desarrollo a la sección de análisis de test A/b para llegar a resultados correctos. Fíjate que es fundamental poder eliminar de la tabla de órdenes a los usuarios que están presentes al mismo tiempo en los dos grupos .\n",
    "\n",
    " Después de que tengas en cuenta lo anterior, podremos continuar con la revisión del proyecto.</div>    "
   ]
  },
  {
   "cell_type": "markdown",
   "metadata": {},
   "source": [
    "## 2. Análisis de test A/B"
   ]
  },
  {
   "cell_type": "code",
   "execution_count": 13,
   "metadata": {},
   "outputs": [],
   "source": [
    "orders['date'] = orders['date'].map(\n",
    "    lambda x: dt.datetime.strptime(x, '%Y-%m-%d')\n",
    ")\n",
    "\n",
    "visits['date'] = visits['date'].map(\n",
    "    lambda x: dt.datetime.strptime(x, '%Y-%m-%d')\n",
    ")"
   ]
  },
  {
   "cell_type": "code",
   "execution_count": 14,
   "metadata": {},
   "outputs": [
    {
     "name": "stdout",
     "output_type": "stream",
     "text": [
      "<class 'pandas.core.frame.DataFrame'>\n",
      "RangeIndex: 1197 entries, 0 to 1196\n",
      "Data columns (total 5 columns):\n",
      " #   Column         Non-Null Count  Dtype         \n",
      "---  ------         --------------  -----         \n",
      " 0   transactionId  1197 non-null   int64         \n",
      " 1   visitorId      1197 non-null   int64         \n",
      " 2   date           1197 non-null   datetime64[ns]\n",
      " 3   revenue        1197 non-null   float64       \n",
      " 4   group          1197 non-null   object        \n",
      "dtypes: datetime64[ns](1), float64(1), int64(2), object(1)\n",
      "memory usage: 46.9+ KB\n"
     ]
    }
   ],
   "source": [
    "orders.info()"
   ]
  },
  {
   "cell_type": "markdown",
   "metadata": {},
   "source": [
    "<b> Borrar usuarios que están en ambos grupos: </b>"
   ]
  },
  {
   "cell_type": "code",
   "execution_count": 15,
   "metadata": {},
   "outputs": [
    {
     "name": "stdout",
     "output_type": "stream",
     "text": [
      "<class 'pandas.core.frame.DataFrame'>\n",
      "Index: 1016 entries, 0 to 1196\n",
      "Data columns (total 5 columns):\n",
      " #   Column         Non-Null Count  Dtype         \n",
      "---  ------         --------------  -----         \n",
      " 0   transactionId  1016 non-null   int64         \n",
      " 1   visitorId      1016 non-null   int64         \n",
      " 2   date           1016 non-null   datetime64[ns]\n",
      " 3   revenue        1016 non-null   float64       \n",
      " 4   group          1016 non-null   object        \n",
      "dtypes: datetime64[ns](1), float64(1), int64(2), object(1)\n",
      "memory usage: 47.6+ KB\n",
      "None\n"
     ]
    }
   ],
   "source": [
    "# Paso 1: Contar cuántos grupos tiene cada visitorId\n",
    "group_count = orders.groupby('visitorId')['group'].nunique().reset_index()\n",
    "\n",
    "# Paso 2: Filtrar usuarios que están solo en un grupo\n",
    "unique_visitors = group_count[group_count['group'] == 1]['visitorId']\n",
    "\n",
    "# Paso 3: Filtrar el DataFrame original para mantener solo esos usuarios\n",
    "orders = orders[orders['visitorId'].isin(unique_visitors)]\n",
    "\n",
    "# Mostrando el DataFrame filtrado\n",
    "print(orders.info())"
   ]
  },
  {
   "cell_type": "code",
   "execution_count": 16,
   "metadata": {},
   "outputs": [
    {
     "name": "stdout",
     "output_type": "stream",
     "text": [
      "<class 'pandas.core.frame.DataFrame'>\n",
      "RangeIndex: 62 entries, 0 to 61\n",
      "Data columns (total 3 columns):\n",
      " #   Column  Non-Null Count  Dtype         \n",
      "---  ------  --------------  -----         \n",
      " 0   date    62 non-null     datetime64[ns]\n",
      " 1   group   62 non-null     object        \n",
      " 2   visits  62 non-null     int64         \n",
      "dtypes: datetime64[ns](1), int64(1), object(1)\n",
      "memory usage: 1.6+ KB\n"
     ]
    }
   ],
   "source": [
    "visits.info()"
   ]
  },
  {
   "cell_type": "markdown",
   "metadata": {},
   "source": [
    "### 2.1 Ingreso acumulado por grupo"
   ]
  },
  {
   "cell_type": "code",
   "execution_count": 17,
   "metadata": {},
   "outputs": [
    {
     "data": {
      "text/plain": [
       "<matplotlib.legend.Legend at 0x232fdea6a20>"
      ]
     },
     "execution_count": 17,
     "metadata": {},
     "output_type": "execute_result"
    },
    {
     "data": {
      "image/png": "[encoded data removed]",
      "text/plain": [
       "<Figure size 1200x500 with 1 Axes>"
      ]
     },
     "metadata": {},
     "output_type": "display_data"
    }
   ],
   "source": [
    "datesGroups = orders[['date', 'group']].drop_duplicates()\n",
    "\n",
    "ordersAggregated = datesGroups.apply(\n",
    "    lambda x: orders[\n",
    "        np.logical_and(\n",
    "            orders['date'] <= x['date'], orders['group'] == x['group']\n",
    "        )\n",
    "    ].agg(\n",
    "        {\n",
    "            'date': 'max',\n",
    "            'group': 'max',\n",
    "            'transactionId': pd.Series.nunique,\n",
    "            'visitorId': pd.Series.nunique,\n",
    "            'revenue': 'sum',\n",
    "        }\n",
    "    ),\n",
    "    axis=1,\n",
    ").sort_values(by=['date', 'group'])\n",
    "\n",
    "visitorsAggregated = datesGroups.apply(\n",
    "    lambda x: visits[\n",
    "        np.logical_and(\n",
    "            visits['date'] <= x['date'], visits['group'] == x['group']\n",
    "        )\n",
    "    ].agg({'date': 'max', 'group': 'max', 'visits': 'sum'}),\n",
    "    axis=1,\n",
    ").sort_values(by=['date', 'group'])\n",
    "\n",
    "cumulativeData = ordersAggregated.merge(\n",
    "    visitorsAggregated, left_on=['date', 'group'], right_on=['date', 'group']\n",
    ")\n",
    "cumulativeData.columns = [\n",
    "    'date',\n",
    "    'group',\n",
    "    'orders',\n",
    "    'buyers',\n",
    "    'revenue',\n",
    "    'visitors',\n",
    "]\n",
    "\n",
    "# DataFrame con pedidos acumulados e ingresos acumulados por día, grupo A\n",
    "cumulativeRevenueA = cumulativeData[cumulativeData['group']=='A'][['date','revenue', 'orders']]\n",
    "\n",
    "# DataFrame con pedidos acumulados e ingresos acumulados por día, grupo B\n",
    "cumulativeRevenueB = cumulativeData[cumulativeData['group']=='B'][['date','revenue', 'orders']]\n",
    "\n",
    "plt.figure(figsize=(12, 5))\n",
    "\n",
    "# Trazar el gráfico de ingresos del grupo A\n",
    "plt.plot(cumulativeRevenueA['date'], cumulativeRevenueA['revenue'], label='A')\n",
    "\n",
    "# Trazar el gráfico de ingresos del grupo B\n",
    "plt.plot(cumulativeRevenueB['date'], cumulativeRevenueB['revenue'], label='B')\n",
    "\n",
    "plt.legend()"
   ]
  },
  {
   "cell_type": "code",
   "execution_count": 18,
   "metadata": {},
   "outputs": [
    {
     "name": "stdout",
     "output_type": "stream",
     "text": [
      "<class 'pandas.core.frame.DataFrame'>\n",
      "RangeIndex: 62 entries, 0 to 61\n",
      "Data columns (total 6 columns):\n",
      " #   Column    Non-Null Count  Dtype         \n",
      "---  ------    --------------  -----         \n",
      " 0   date      62 non-null     datetime64[ns]\n",
      " 1   group     62 non-null     object        \n",
      " 2   orders    62 non-null     int64         \n",
      " 3   buyers    62 non-null     int64         \n",
      " 4   revenue   62 non-null     float64       \n",
      " 5   visitors  62 non-null     int64         \n",
      "dtypes: datetime64[ns](1), float64(1), int64(3), object(1)\n",
      "memory usage: 3.0+ KB\n"
     ]
    }
   ],
   "source": [
    "cumulativeData.info()"
   ]
  },
  {
   "cell_type": "markdown",
   "metadata": {},
   "source": [
    "El gráfico muestra la evolución del ingreso acumulado para dos grupos, etiquetados como A (línea azul) y B (línea naranja), durante el mes de agosto de 2019. A continuación se enumeran algunas conclusiones y conjeturas basadas en la gráfica:\n",
    "\n",
    "<b> Conclusiones: </b>\n",
    "\n",
    "1. **Crecimiento Consistente**: Ambos grupos muestran un crecimiento constante a lo largo del mes, lo que sugiere que las actividades que generan ingresos son continuas y progresivas.\n",
    "\n",
    "2. **Diferencia entre Grupos**: El grupo B tiene un ingreso acumulado consistentemente mayor que el grupo A durante todo el período, indicando que las estrategias o las condiciones que afectan al grupo B son más efectivas o productivas.\n",
    "\n",
    "3. **Salto Significativo en B**: Alrededor del 17 de agosto, el grupo B experimenta un incremento abrupto en el ingreso acumulado, lo que podría indicar una campaña o evento específico que tuvo un impacto significativo en los ingresos. Esto no se observa en el grupo A, sugiriendo que dicho evento fue exclusivo del grupo B.\n",
    "\n",
    "4. **Convergencia y Divergencia**: Aunque ambos grupos muestran patrones de crecimiento similares, el grupo B se separa más significativamente del grupo A después del 17 de agosto, indicando que las estrategias o actividades que afectaron a B fueron mucho más efectivas en este punto.\n",
    "\n",
    "<b> Conjeturas: </b>\n",
    "\n",
    "1. **Evento o Promoción en B**: Es posible que el grupo B haya tenido una promoción, lanzamiento de un producto, o alguna otra intervención alrededor del 17 de agosto que incrementó significativamente los ingresos.\n",
    "\n",
    "2. **Segmentos Diferentes**: Los grupos podrían representar diferentes segmentos de clientes o mercados, con B potencialmente compuesto por clientes de mayor valor o un segmento más receptivo a las estrategias aplicadas.\n",
    "\n",
    "3. **Optimización en B**: Si B representa un experimento o una versión optimizada de una estrategia, este salto en ingresos sugiere que la optimización fue exitosa y merece mayor investigación y replicación para el grupo A.\n",
    "\n",
    "Si tienes más contexto sobre qué representan los grupos A y B o los ingresos, se podría refinar aún más la interpretación."
   ]
  },
  {
   "cell_type": "markdown",
   "metadata": {},
   "source": [
    "### 2.2 Tamaño de pedido promedio acumulado por grupo"
   ]
  },
  {
   "cell_type": "code",
   "execution_count": 19,
   "metadata": {},
   "outputs": [
    {
     "data": {
      "text/plain": [
       "<matplotlib.legend.Legend at 0x232d991f1a0>"
      ]
     },
     "execution_count": 19,
     "metadata": {},
     "output_type": "execute_result"
    },
    {
     "data": {
      "image/png": "[encoded data removed]",
      "text/plain": [
       "<Figure size 1200x500 with 1 Axes>"
      ]
     },
     "metadata": {},
     "output_type": "display_data"
    }
   ],
   "source": [
    "plt.figure(figsize=(12, 5))\n",
    "\n",
    "plt.plot(cumulativeRevenueA['date'], cumulativeRevenueA['revenue']/cumulativeRevenueA['orders'], label='A')\n",
    "plt.plot(cumulativeRevenueB['date'], cumulativeRevenueB['revenue']/cumulativeRevenueB['orders'], label='B')\n",
    "plt.legend()"
   ]
  },
  {
   "cell_type": "markdown",
   "metadata": {},
   "source": [
    "### 2.3 Diferencia relativa en el tamaño de pedido promedio"
   ]
  },
  {
   "cell_type": "code",
   "execution_count": 20,
   "metadata": {},
   "outputs": [
    {
     "data": {
      "text/plain": [
       "<matplotlib.lines.Line2D at 0x232d99d07a0>"
      ]
     },
     "execution_count": 20,
     "metadata": {},
     "output_type": "execute_result"
    },
    {
     "data": {
      "image/png": "[encoded data removed]",
      "text/plain": [
       "<Figure size 1200x500 with 1 Axes>"
      ]
     },
     "metadata": {},
     "output_type": "display_data"
    }
   ],
   "source": [
    "# reunir los datos en un DataFrame\n",
    "mergedCumulativeRevenue = cumulativeRevenueA.merge(cumulativeRevenueB, left_on='date', right_on='date', how='left', suffixes=['A', 'B'])\n",
    "\n",
    "plt.figure(figsize=(12, 5))\n",
    "\n",
    "# trazar un gráfico de diferencia relativa para los tamaños de compra promedio\n",
    "plt.plot(mergedCumulativeRevenue['date'], (mergedCumulativeRevenue['revenueB']/mergedCumulativeRevenue['ordersB'])/(mergedCumulativeRevenue['revenueA']/mergedCumulativeRevenue['ordersA'])-1)\n",
    "\n",
    "# agregar el eje X\n",
    "plt.axhline(y=0, color='black', linestyle='--')"
   ]
  },
  {
   "cell_type": "markdown",
   "metadata": {},
   "source": [
    "Los gráficos anteriores muestran la evolución del tamaño de pedido promedio acumulado para dos grupos, A (línea azul) y B (línea naranja), y la diferencia relativa en el tamaño de pedido promedio durante el mes de agosto de 2019.\n",
    "\n",
    "### Conclusiones:\n",
    "\n",
    "1. **Tendencias Iniciales Diferentes**: Al principio de agosto, el grupo A tiene un tamaño de pedido promedio ligeramente mayor que el grupo B, pero ambos grupos muestran fluctuaciones antes del 10 de agosto.\n",
    "\n",
    "2. **Estabilidad en A, Incremento en B**: A partir del 10 de agosto, el grupo A mantiene un tamaño de pedido promedio más estable, mientras que el grupo B sigue un patrón de crecimiento más pronunciado, alcanzando un pico significativo alrededor del 17 de agosto.\n",
    "\n",
    "3. **Pico Significativo en B**: Similar al gráfico anterior de ingresos acumulados, el grupo B experimenta un aumento notable en el tamaño de pedido promedio el 17 de agosto, lo que podría estar relacionado con un evento específico que incentivó a los clientes a realizar pedidos más grandes.\n",
    "\n",
    "4. **Desaceleración en B y Convergencia**: Después del pico, el tamaño de pedido promedio en el grupo B se estabiliza y comienza a disminuir ligeramente, pero se mantiene por encima del grupo A, que sigue una tendencia más estable y consistente.\n",
    "\n",
    "### Conjeturas:\n",
    "\n",
    "1. **Promociones o Descuentos Específicos en B**: El aumento abrupto del tamaño de pedido promedio en el grupo B podría haber sido causado por una promoción o descuento dirigido que incentivó a los clientes a realizar pedidos de mayor tamaño alrededor del 17 de agosto.\n",
    "\n",
    "2. **Diferencias en Segmentación**: El grupo B podría representar un segmento de clientes más propenso a hacer pedidos grandes, o podría haber sido expuesto a campañas específicas que afectaron su comportamiento de compra de manera diferente al grupo A.\n",
    "\n",
    "3. **Optimización o Prueba de Estrategia**: Si el grupo B está bajo una estrategia de ventas diferente (por ejemplo, un nuevo esquema de precios o paquetes), el pico en el tamaño de pedido promedio podría ser un indicio de que dicha estrategia fue efectiva temporalmente.\n",
    "\n",
    "Este análisis sugiere que el grupo B fue sometido a condiciones que alentaron un aumento temporal en el tamaño de los pedidos, aunque las razones precisas necesitarían ser investigadas en mayor detalle."
   ]
  },
  {
   "cell_type": "markdown",
   "metadata": {},
   "source": [
    "### 2.4 Tasas de conversión diarias"
   ]
  },
  {
   "cell_type": "code",
   "execution_count": 21,
   "metadata": {},
   "outputs": [
    {
     "data": {
      "text/plain": [
       "count                             1016\n",
       "mean     2019-08-15 07:47:42.992125952\n",
       "min                2019-08-01 00:00:00\n",
       "25%                2019-08-07 00:00:00\n",
       "50%                2019-08-15 00:00:00\n",
       "75%                2019-08-23 00:00:00\n",
       "max                2019-08-31 00:00:00\n",
       "Name: date, dtype: object"
      ]
     },
     "execution_count": 21,
     "metadata": {},
     "output_type": "execute_result"
    }
   ],
   "source": [
    "orders['date'].describe()"
   ]
  },
  {
   "cell_type": "code",
   "execution_count": 22,
   "metadata": {},
   "outputs": [
    {
     "data": {
      "text/plain": [
       "<matplotlib.legend.Legend at 0x232fed437a0>"
      ]
     },
     "execution_count": 22,
     "metadata": {},
     "output_type": "execute_result"
    },
    {
     "data": {
      "image/png": "[encoded data removed]",
      "text/plain": [
       "<Figure size 1200x500 with 1 Axes>"
      ]
     },
     "metadata": {},
     "output_type": "display_data"
    }
   ],
   "source": [
    "# calcular la conversión acumulada\n",
    "cumulativeData['conversion'] = cumulativeData['orders']/cumulativeData['visitors']\n",
    "\n",
    "# seleccionar datos en el grupo A\n",
    "cumulativeDataA = cumulativeData[cumulativeData['group']=='A']\n",
    "\n",
    "# seleccionar datos en el grupo B\n",
    "cumulativeDataB = cumulativeData[cumulativeData['group']=='B']\n",
    "\n",
    "# trazar los gráficos\n",
    "plt.figure(figsize=(12, 5))\n",
    "\n",
    "plt.plot(cumulativeDataA['date'], cumulativeDataA['conversion'], label='A')\n",
    "plt.plot(cumulativeDataB['date'], cumulativeDataB['conversion'], label='B')\n",
    "plt.legend()"
   ]
  },
  {
   "cell_type": "code",
   "execution_count": 23,
   "metadata": {},
   "outputs": [
    {
     "data": {
      "text/plain": [
       "<matplotlib.lines.Line2D at 0x232fedcdee0>"
      ]
     },
     "execution_count": 23,
     "metadata": {},
     "output_type": "execute_result"
    },
    {
     "data": {
      "image/png": "[encoded data removed]",
      "text/plain": [
       "<Figure size 1200x500 with 1 Axes>"
      ]
     },
     "metadata": {},
     "output_type": "display_data"
    }
   ],
   "source": [
    "mergedCumulativeConversions = cumulativeDataA[['date','conversion']].merge(\n",
    "    cumulativeDataB[['date','conversion']], \n",
    "    left_on='date', \n",
    "    right_on='date', \n",
    "    how='left', \n",
    "    suffixes=['A', 'B']\n",
    "    )\n",
    "\n",
    "plt.figure(figsize=(12, 5))\n",
    "\n",
    "plt.plot(mergedCumulativeConversions['date'], mergedCumulativeConversions['conversionB']/mergedCumulativeConversions['conversionA']-1)\n",
    "# plt.legend()\n",
    "\n",
    "plt.axhline(y=0, color='black', linestyle='--')\n",
    "plt.axhline(y=0.1, color='grey', linestyle='--')\n",
    "# plt.axis([\"2019-04-01\", '2019-04-23', -0.6, 0.6])"
   ]
  },
  {
   "cell_type": "markdown",
   "metadata": {},
   "source": [
    "<b> Conclusiones: </b>\n",
    "\n",
    "1. **Comportamiento inicial**:\n",
    "   - El **Grupo A** comienza con una tasa de conversión relativamente alta el 1 de agosto, pero rápidamente cae después de un pico el 2 de agosto, para luego mantener una tendencia a la baja con fluctuaciones hacia la mitad del mes.\n",
    "   - El **Grupo B**, en contraste, empieza con una tasa de conversión mucho más baja el 1 de agosto, pero luego se estabiliza y muestra un crecimiento más gradual hasta mediados de agosto.\n",
    "\n",
    "2. **Cruce de tasas**:\n",
    "   - Entre el **5 y el 6 de agosto**, las tasas de conversión de los dos grupos se cruzan, donde el **Grupo B** comienza a superar al **Grupo A**. Esto indica un cambio en el rendimiento relativo entre los dos grupos, con el Grupo B tomando ventaja en los días posteriores.\n",
    "\n",
    "3. **Tendencia a largo plazo**:\n",
    "   - Después del cruce de tasas, el **Grupo A** continúa con una tendencia descendente, mientras que el **Grupo B** parece mantener una tasa más estable, con ligeras subidas y bajadas, pero permaneciendo consistentemente por encima del Grupo A.\n",
    "   - La tendencia hacia finales de agosto muestra que el **Grupo A** tiene un rendimiento descendente, mientras que el **Grupo B** muestra una ligera mejora y una estabilidad general.\n",
    "\n",
    "4. **Variabilidad**:\n",
    "   - El **Grupo A** presenta mayor variabilidad en las tasas de conversión, con picos y caídas más acentuadas, lo que podría indicar fluctuaciones en el comportamiento de los usuarios o en las estrategias aplicadas.\n",
    "   - El **Grupo B** tiene un comportamiento más estable, con un crecimiento moderado seguido de estabilización.\n",
    "\n",
    "<b> Interpretación: </b>\n",
    "- **Grupo A** parece haber tenido un buen rendimiento inicial, pero no logró mantener ese nivel durante el período observado. \n",
    "- **Grupo B** inicialmente tuvo un rendimiento inferior, pero su tendencia más estable y gradual hacia el aumento y estabilización sugiere que es más consistente a lo largo del tiempo.\n",
    "  \n",
    "Esto podría implicar que las estrategias o experimentos aplicados en el **Grupo B** resultaron en un desempeño más sostenible, mientras que el **Grupo A** mostró un deterioro con el tiempo.\n",
    "\n",
    "<b> Recomendaciones: </b>\n",
    "- Investigar por qué el **Grupo A** tuvo una caída significativa en las tasas de conversión después del pico inicial.\n",
    "- Analizar qué factores contribuyeron a la estabilidad del **Grupo B** y si esos elementos pueden implementarse en el Grupo A para mejorar su rendimiento."
   ]
  },
  {
   "cell_type": "markdown",
   "metadata": {},
   "source": [
    "### 2.5 Gráfico de dispersión del número de pedidos por usuario"
   ]
  },
  {
   "cell_type": "code",
   "execution_count": 24,
   "metadata": {},
   "outputs": [
    {
     "data": {
      "text/plain": [
       "<matplotlib.collections.PathCollection at 0x232ff2324e0>"
      ]
     },
     "execution_count": 24,
     "metadata": {},
     "output_type": "execute_result"
    },
    {
     "data": {
      "image/png": "[encoded data removed]",
      "text/plain": [
       "<Figure size 640x480 with 1 Axes>"
      ]
     },
     "metadata": {},
     "output_type": "display_data"
    }
   ],
   "source": [
    "ordersByUsers = (\n",
    "    orders.drop(['group', 'revenue', 'date'], axis=1)\n",
    "    .groupby('visitorId', as_index=False)\n",
    "    .agg({'transactionId': pd.Series.nunique})\n",
    ")\n",
    "\n",
    "ordersByUsers.columns = ['userId', 'orders']\n",
    "\n",
    "x_values = pd.Series(range(0,len(ordersByUsers)))\n",
    "\n",
    "plt.scatter(x_values, ordersByUsers['orders'])"
   ]
  },
  {
   "cell_type": "markdown",
   "metadata": {},
   "source": [
    "### 2.6 Percentiles 95 y 99 para el número de pedidos por usuario."
   ]
  },
  {
   "cell_type": "code",
   "execution_count": 25,
   "metadata": {},
   "outputs": [
    {
     "name": "stdout",
     "output_type": "stream",
     "text": [
      "Percentiles de los ingresos de \"orders\":\n",
      " [90 95 99] % \n",
      " [1. 1. 2.] $\n"
     ]
    }
   ],
   "source": [
    "percentiles = np.percentile(ordersByUsers['orders'], [90, 95, 99])\n",
    "\n",
    "print(f'Percentiles de los ingresos de \"orders\":\\n', '[90 95 99] % \\n', percentiles, '$')"
   ]
  },
  {
   "cell_type": "markdown",
   "metadata": {},
   "source": [
    "### 2.7 Gráfico de dispersión de los precios de los pedidos"
   ]
  },
  {
   "cell_type": "code",
   "execution_count": 26,
   "metadata": {},
   "outputs": [
    {
     "data": {
      "text/plain": [
       "<matplotlib.collections.PathCollection at 0x232fedb8080>"
      ]
     },
     "execution_count": 26,
     "metadata": {},
     "output_type": "execute_result"
    },
    {
     "data": {
      "image/png": "[encoded data removed]",
      "text/plain": [
       "<Figure size 640x480 with 1 Axes>"
      ]
     },
     "metadata": {},
     "output_type": "display_data"
    }
   ],
   "source": [
    "x_values = pd.Series(range(0, len(orders['revenue'])))\n",
    "plt.scatter(x_values, orders['revenue'])"
   ]
  },
  {
   "cell_type": "markdown",
   "metadata": {},
   "source": [
    "### 2.8 Percentiles 95 y 99 de los precios de los pedidos"
   ]
  },
  {
   "cell_type": "code",
   "execution_count": 27,
   "metadata": {},
   "outputs": [
    {
     "name": "stdout",
     "output_type": "stream",
     "text": [
      "Percentiles de los ingresos de \"orders\":\n",
      " [90      95      99] % \n",
      " [280.8   414.275 830.3  ] $\n"
     ]
    }
   ],
   "source": [
    "percentiles = np.percentile(orders['revenue'], [90, 95, 99])\n",
    "\n",
    "print(f'Percentiles de los ingresos de \"orders\":\\n', '[90      95      99] % \\n', percentiles, '$')"
   ]
  },
  {
   "cell_type": "markdown",
   "metadata": {},
   "source": [
    "### 2.9 Significancia estadística de la diferencia en la conversión con datos en bruto."
   ]
  },
  {
   "cell_type": "code",
   "execution_count": 28,
   "metadata": {},
   "outputs": [
    {
     "name": "stdout",
     "output_type": "stream",
     "text": [
      "0.011\n",
      "0.160\n"
     ]
    }
   ],
   "source": [
    "ordersByUsersA = orders[orders['group']=='A'].groupby('visitorId', as_index=False).agg({'transactionId' : pd.Series.nunique})\n",
    "ordersByUsersA.columns = ['userId', 'orders']\n",
    "\n",
    "ordersByUsersB = orders[orders['group']=='B'].groupby('visitorId', as_index=False).agg({'transactionId' : pd.Series.nunique})\n",
    "ordersByUsersB.columns = ['userId', 'orders']\n",
    "\n",
    "sampleA = pd.concat([ordersByUsersA['orders'],pd.Series(0, index=np.arange(visits[visits['group']=='A']['visits'].sum() - len(ordersByUsersA['orders'])), name='orders')],axis=0)\n",
    "\n",
    "sampleB = pd.concat([ordersByUsersB['orders'],pd.Series(0, index=np.arange(visits[visits['group']=='B']['visits'].sum() - len(ordersByUsersB['orders'])), name='orders')],axis=0)\n",
    "\n",
    "print(\"{0:.3f}\".format(st.mannwhitneyu(sampleA, sampleB)[1]))\n",
    "\n",
    "print(\"{0:.3f}\".format(sampleB.mean()/sampleA.mean()-1))"
   ]
  },
  {
   "cell_type": "markdown",
   "metadata": {},
   "source": [
    "Con los datos proporcionados, se pueden hacer las siguientes conclusiones y conjeturas sobre la significancia estadística de la diferencia en la conversión entre los dos grupos:\n",
    "\n",
    "<b> Conclusiones: </b>\n",
    "\n",
    "1. **Significancia Estadística (p-valor = 0.011)**:\n",
    "   - El valor p de 0.017, obtenido de la prueba de Mann-Whitney U, indica que la diferencia en la conversión entre los dos grupos es estadísticamente significativa al nivel de significancia comúnmente aceptado de 0.05. Esto significa que hay menos de un 2% de probabilidad de que la diferencia observada se deba al azar, lo cual sugiere que la diferencia es real y no es un resultado de la variabilidad aleatoria en los datos.\n",
    "\n",
    "2. **Magnitud de la Diferencia (Incremento del 16%)**:\n",
    "   - La relación \\( \\frac{\\text{sampleB.mean()}}{\\text{sampleA.mean()}} - 1 = 0.16 \\) indica que el grupo B tiene una tasa de conversión un 13.8% mayor que la del grupo A. Este es un aumento notable, lo que sugiere que alguna intervención, característica, o estrategia en el grupo B ha tenido un impacto positivo en la conversión.\n",
    "\n",
    "<b> Conjeturas: </b>\n",
    "\n",
    "1. **Eficacia de Intervenciones o Cambios**:\n",
    "   - Dado que la diferencia en la conversión es tanto estadísticamente significativa como notable en magnitud, se puede conjeturar que cualquier intervención, cambio o característica que diferencia a los grupos A y B ha sido efectiva. Esto podría ser una nueva estrategia de marketing, una mejora en la experiencia del usuario, una promoción especial, etc.\n",
    "\n",
    "2. **Relevancia Práctica**:\n",
    "   - Además de ser estadísticamente significativa, el incremento del 13.8% en la conversión es también relevante desde un punto de vista práctico. En un contexto empresarial, un aumento en la conversión de este tamaño podría traducirse en una mejora considerable en los ingresos o en el rendimiento general del negocio.\n",
    "\n",
    "3. **Posibles Sesgos o Factores Confundentes**:\n",
    "   - A pesar de la significancia estadística, siempre es prudente considerar si hay factores externos que podrían estar influyendo en los resultados. Factores como la segmentación incorrecta de los grupos, diferencias en las muestras, o eventos externos pueden afectar la validez de las conclusiones.\n",
    "\n",
    "En resumen, los resultados sugieren una diferencia estadísticamente significativa y práctica en la conversión entre los dos grupos, con el grupo B mostrando un rendimiento superior al grupo A. Este hallazgo apoya la idea de que las estrategias o condiciones que afectan al grupo B deberían ser investigadas y, posiblemente, implementadas más ampliamente."
   ]
  },
  {
   "cell_type": "markdown",
   "metadata": {},
   "source": [
    "### 2.10 Significancia estadística de la diferencia en el tamaño promedio de pedido"
   ]
  },
  {
   "cell_type": "code",
   "execution_count": 29,
   "metadata": {},
   "outputs": [
    {
     "name": "stdout",
     "output_type": "stream",
     "text": [
      "0.862\n",
      "0.278\n"
     ]
    }
   ],
   "source": [
    "print('{0:.3f}'.format(st.mannwhitneyu(orders[orders['group']=='A']['revenue'], orders[orders['group']=='B']['revenue'])[1]))\n",
    "print('{0:.3f}'.format(orders[orders['group']=='B']['revenue'].mean()/orders[orders['group']=='A']['revenue'].mean()-1))"
   ]
  },
  {
   "cell_type": "markdown",
   "metadata": {},
   "source": [
    "Con los datos proporcionados, se pueden hacer las siguientes conclusiones y conjeturas sobre la significancia estadística de la diferencia en el tamaño promedio de pedido entre los dos grupos:\n",
    "\n",
    "<b> Conclusiones: </b>\n",
    "\n",
    "1. **No Significancia Estadística (p-valor = 0.862)**:\n",
    "   - El valor p de 0.692, obtenido de la prueba de Mann-Whitney U, indica que no hay evidencia suficiente para rechazar la hipótesis nula de que las distribuciones de los tamaños de pedido en los dos grupos son iguales. Este valor p es muy superior al umbral común de significancia de 0.05, lo que sugiere que cualquier diferencia observada en los tamaños promedio de pedido entre los grupos A y B podría ser atribuible al azar y no a una causa real.\n",
    "\n",
    "2. **Magnitud de la Diferencia (Incremento del 27.8%)**:\n",
    "   - La relación \\( \\frac{\\text{sampleB.mean()}}{\\text{sampleA.mean()}} - 1 = 0.278 \\) indica que el tamaño promedio de pedido en el grupo B es un 27.8% mayor que en el grupo A. Aunque esta diferencia en magnitud es considerable, su falta de significancia estadística implica que no podemos estar seguros de que esta diferencia sea real o relevante.\n",
    "\n",
    "<b> Conjeturas: </b>\n",
    "\n",
    "1. **Posible Influencia del Tamaño de la Muestra**:\n",
    "   - La falta de significancia estadística a pesar de una diferencia en magnitud notable (27.8%) podría sugerir que el tamaño de la muestra es insuficiente para detectar una diferencia real. Con una muestra más grande, es posible que esta diferencia podría alcanzar significancia estadística.\n",
    "\n",
    "2. **Variabilidad Inherente en los Datos**:\n",
    "   - La gran variabilidad entre los tamaños de pedido dentro de los grupos podría estar diluyendo la capacidad de la prueba para detectar una diferencia significativa. Esto podría ocurrir si hay una gran dispersión o si existen outliers que afectan la distribución.\n",
    "\n",
    "3. **Posible Efecto de Factores Externos**:\n",
    "   - A pesar de que la diferencia en el tamaño promedio de pedido no es estadísticamente significativa, podría estar influenciada por otros factores que no fueron controlados en el análisis. Por ejemplo, características específicas de los clientes en los grupos A y B (como preferencias de compra o comportamiento estacional) podrían estar contribuyendo a esta diferencia en promedio sin ser realmente atribuibles a una intervención o condición particular.\n",
    "\n",
    "4. **Diferencias No Relevantes**:\n",
    "   - Es posible que, a pesar de la diferencia en el promedio del 25.2%, esta variación no sea lo suficientemente consistente o significativa para considerarse relevante en un contexto práctico. Esto podría sugerir que cualquier intervención o estrategia aplicada al grupo B no tuvo un impacto significativo o que los resultados observados son simplemente aleatorios.\n",
    "\n",
    "<b> Resumen: </b>\n",
    "\n",
    "Los resultados sugieren que, aunque el tamaño promedio de pedido en el grupo B es un 27.8% mayor que en el grupo A, esta diferencia no es estadísticamente significativa (p-valor = 0.862). Esto implica que no podemos afirmar con confianza que la diferencia observada sea real y no el resultado del azar. Se recomienda considerar otros factores y realizar análisis adicionales, posiblemente con muestras más grandes, para llegar a conclusiones más definitivas."
   ]
  },
  {
   "cell_type": "markdown",
   "metadata": {},
   "source": [
    "### 2.11  Significancia estadística de la diferencia en la conversión entre los grupos utilizando los datos filtrados"
   ]
  },
  {
   "cell_type": "code",
   "execution_count": 30,
   "metadata": {},
   "outputs": [
    {
     "name": "stdout",
     "output_type": "stream",
     "text": [
      "1099    148427295\n",
      "928     204675465\n",
      "684     358944393\n",
      "648     382846391\n",
      "751     689129267\n",
      "dtype: int64\n",
      "(49,)\n"
     ]
    }
   ],
   "source": [
    "usersWithManyOrders = pd.concat([ordersByUsersA[ordersByUsersA['orders'] > 4]['userId'], ordersByUsersB[ordersByUsersB['orders'] > 4]['userId']], axis = 0)\n",
    "usersWithExpensiveOrders = orders[orders['revenue'] > 435]['visitorId']\n",
    "abnormalUsers = pd.concat([usersWithManyOrders, usersWithExpensiveOrders], axis = 0).drop_duplicates().sort_values()\n",
    "print(abnormalUsers.head(5))\n",
    "print(abnormalUsers.shape)"
   ]
  },
  {
   "cell_type": "code",
   "execution_count": 31,
   "metadata": {},
   "outputs": [],
   "source": [
    "sampleAFiltered = pd.concat([ordersByUsersA[np.logical_not(ordersByUsersA['userId'].isin(abnormalUsers))]['orders'],pd.Series(0, index=np.arange(visits[visits['group']=='A']['visits'].sum() - len(ordersByUsersA['orders'])),name='orders')],axis=0)\n",
    "\n",
    "sampleBFiltered = pd.concat([ordersByUsersB[np.logical_not(ordersByUsersB['userId'].isin(abnormalUsers))]['orders'],pd.Series(0, index=np.arange(visits[visits['group']=='B']['visits'].sum() - len(ordersByUsersB['orders'])),name='orders')],axis=0)"
   ]
  },
  {
   "cell_type": "code",
   "execution_count": 32,
   "metadata": {},
   "outputs": [
    {
     "name": "stdout",
     "output_type": "stream",
     "text": [
      "0.014\n",
      "0.160\n"
     ]
    }
   ],
   "source": [
    "print(\"{0:.3f}\".format(st.mannwhitneyu(sampleAFiltered, sampleBFiltered)[1]))\n",
    "print(\"{0:.3f}\".format(sampleBFiltered.mean()/sampleAFiltered.mean()-1))\n"
   ]
  },
  {
   "cell_type": "markdown",
   "metadata": {},
   "source": [
    "Con base en los datos proporcionados antes y después de filtrar los datos, se pueden hacer las siguientes conclusiones y conjeturas sobre la significancia estadística de la diferencia en la conversión entre los dos grupos:\n",
    "\n",
    "<b> Conclusiones: </b>\n",
    "\n",
    "1. **Significancia Estadística Consistente**:\n",
    "   - Antes del filtrado, el valor p era 0.011, y después del filtrado es 0.014. Ambos valores p son menores al umbral común de 0.05, lo que indica que la diferencia en la conversión entre los dos grupos sigue siendo estadísticamente significativa tras el filtrado. Esto sugiere que el filtrado de datos no eliminó la relevancia estadística de la diferencia observada entre los grupos.\n",
    "\n",
    "2. **Magnitud de la Diferencia Ligeramente Mayor**:\n",
    "   - La razón de los promedios \\( \\frac{\\text{sampleB.mean()}}{\\text{sampleA.mean()}} - 1 \\) no tuvo cambio aparente después del filtrado. \n",
    "\n",
    "<b> Conjeturas: </b>\n",
    "\n",
    "1. **Filtrado Eficaz en Refinar la Muestra**:\n",
    "   - Dado que la significancia estadística se mantiene y la magnitud de la diferencia aumenta ligeramente, es probable que el filtrado haya eliminado datos que introducían ruido o sesgo en la muestra original. Esto sugiere que el filtrado ha ayudado a enfocar el análisis en los datos más relevantes o representativos de los grupos, mejorando la precisión de la comparación.\n",
    "\n",
    "2. **Robustez de la Diferencia**:\n",
    "   - La persistencia de la significancia estadística después del filtrado sugiere que la diferencia observada entre los grupos A y B es robusta y no depende de un subconjunto específico de los datos. Esto refuerza la conclusión de que la intervención o característica que afecta al grupo B tiene un impacto real y significativo en la conversión.\n",
    "\n",
    "3. **Posible Mejora en la Comprensión de los Factores que Influyen en la Conversión**:\n",
    "   - El pequeño aumento en la magnitud de la diferencia podría indicar que el filtrado ha permitido identificar más claramente los factores que están influyendo en la conversión. Por ejemplo, el filtrado podría haber aislado mejor a los clientes que responden de manera más consistente a la estrategia aplicada en el grupo B.\n",
    "\n",
    "4. **Reevaluación de la Intervención**:\n",
    "   - Con la información filtrada y una mayor claridad en la diferencia entre los grupos, puede ser útil reevaluar la intervención o estrategia aplicada al grupo B para entender mejor qué aspectos específicos están impulsando el aumento en la conversión. Esto podría conducir a ajustes más finos o a la optimización de la estrategia para obtener aún mejores resultados.\n",
    "\n",
    "<b> Resumen: </b>\n",
    "\n",
    "Después de filtrar los datos, la diferencia en la conversión entre los grupos A y B sigue siendo estadísticamente significativa, con un ligero aumento en la magnitud de la diferencia. Esto sugiere que el filtrado mejoró la precisión de los resultados y que la diferencia en la conversión es robusta y relevante. Se recomienda continuar explorando qué factores específicos podrían estar contribuyendo a esta diferencia para optimizar las estrategias aplicadas."
   ]
  },
  {
   "cell_type": "markdown",
   "metadata": {},
   "source": [
    "### 2.12 Significancia estadística de la diferencia en el tamaño promedio de pedido entre los grupos utilizando los datos filtrados. "
   ]
  },
  {
   "cell_type": "code",
   "execution_count": 33,
   "metadata": {},
   "outputs": [
    {
     "name": "stdout",
     "output_type": "stream",
     "text": [
      "0.856\n",
      "-0.035\n"
     ]
    }
   ],
   "source": [
    "print('{0:.3f}'.format(st.mannwhitneyu(\n",
    "    orders[np.logical_and(\n",
    "        orders['group']=='A',\n",
    "        np.logical_not(orders['visitorId'].isin(abnormalUsers)))]['revenue'],\n",
    "    orders[np.logical_and(\n",
    "        orders['group']=='B',\n",
    "        np.logical_not(orders['visitorId'].isin(abnormalUsers)))]['revenue'])[1]))\n",
    "\n",
    "print('{0:.3f}'.format(\n",
    "    orders[np.logical_and(orders['group']=='B',np.logical_not(orders['visitorId'].isin(abnormalUsers)))]['revenue'].mean()/\n",
    "    orders[np.logical_and(\n",
    "        orders['group']=='A',\n",
    "        np.logical_not(orders['visitorId'].isin(abnormalUsers)))]['revenue'].mean() - 1))"
   ]
  },
  {
   "cell_type": "markdown",
   "metadata": {},
   "source": [
    "Con base en los resultados de los test estadísticos y las diferencias de medias proporcionadas, aquí van algunas conclusiones y conjeturas:\n",
    "\n",
    "<b> Primera Comparación: </b>\n",
    "- **p-valor**: `0.862`\n",
    "- **Diferencia relativa de medias**: `+27.8%` (sampleB tiene un tamaño de pedido promedio un 27.8% mayor que sampleA)\n",
    "\n",
    "**Conclusiones**:\n",
    "- El **p-valor** de `0.862` es muy alto, lo que significa que **no hay una diferencia estadísticamente significativa** entre los tamaños promedio de pedido de los dos grupos (sampleA y sampleB). \n",
    "- A pesar de que sampleB muestra un tamaño promedio de pedido un **27.8% mayor**, esta diferencia **no es lo suficientemente significativa** como para concluir que hay una diferencia real entre ambos grupos, probablemente debido a una alta variabilidad o un tamaño de muestra pequeño.\n",
    "\n",
    "<b> Segunda Comparación (después de filtrar los datos): </b>\n",
    "- **p-valor**: `0.856`\n",
    "- **Diferencia relativa de medias**: `-3.5%` (sampleB tiene un tamaño de pedido promedio un 3.5% menor que sampleA)\n",
    "\n",
    "**Conclusiones**:\n",
    "- Tras aplicar un filtro en los datos, el **p-valor sigue siendo muy alto** (`0.856`), lo que indica que **aún no se puede rechazar la hipótesis nula** (que no hay diferencia significativa entre los grupos). En otras palabras, no hay evidencia suficiente para afirmar que los tamaños promedio de pedido son diferentes entre sampleA y sampleB.\n",
    "- **Cambio en la diferencia de medias**: Después de filtrar los datos, sampleB pasó de tener un tamaño promedio de pedido mayor a uno **ligeramente menor** (una diferencia del -3.5%). Aunque este cambio en la media es notable, sigue siendo pequeño y **no es estadísticamente significativo**.\n",
    "\n",
    "<b> Conjeturas: </b>\n",
    "1. **El filtrado no afecta sustancialmente la significancia**:\n",
    "   - Aunque el filtrado cambió la dirección de la diferencia de las medias (de +27.8% a -3.5%), **el p-valor sigue siendo alto** en ambos casos, lo que sugiere que el filtrado no redujo la variabilidad ni mejoró la capacidad de detectar una diferencia significativa entre los grupos.\n",
    "   - Esto podría deberse a varios factores, como que el tamaño de la muestra sigue siendo insuficiente, o que los datos filtrados aún contienen mucha variabilidad.\n",
    "\n",
    "2. **El filtrado afecta la dirección de las diferencias**:\n",
    "   - Antes del filtrado, sampleB tenía un tamaño promedio de pedido significativamente mayor, pero tras el filtrado, esa diferencia se invierte y sampleB tiene un tamaño ligeramente menor que sampleA.\n",
    "   - Esto podría indicar que los datos filtrados eliminan ciertos sesgos o comportamientos atípicos en sampleB, lo que alinea más los dos grupos.\n",
    "\n",
    "3. **Posibilidad de sesgo o valores atípicos**:\n",
    "   - El hecho de que el filtrado cambie la relación entre los tamaños de pedido sugiere que **podría haber habido sesgos** o **valores atípicos** en los datos originales. Esto podría haber inflado artificialmente el tamaño promedio de sampleB en la primera comparación.\n",
    "\n",
    "<b> Recomendaciones: </b>\n",
    "- **Revisar el proceso de filtrado**: Analizar qué criterios de filtrado se aplicaron y cómo afectaron los datos. Es posible que el filtrado esté eliminando valores extremos o ciertos subconjuntos de datos que influyeron significativamente en la primera comparación.\n",
    "- **Ampliar el tamaño de la muestra**: Dado que no se ha encontrado significancia estadística en ambas comparaciones, puede ser útil recolectar más datos para mejorar la robustez del análisis.\n",
    "- **Explorar otras métricas**: Si el tamaño promedio de pedido no es suficiente para diferenciar entre los grupos, tal vez otras métricas (como la frecuencia de compra o la conversión) podrían aportar más información.\n",
    "\n",
    "En resumen, aunque los datos muestran cambios en la relación entre las medias tras el filtrado, ninguna de estas diferencias es significativa desde el punto de vista estadístico. Esto sugiere que las diferencias observadas entre sampleA y sampleB pueden deberse al azar, y es posible que el filtrado haya afectado valores atípicos o comportamientos específicos."
   ]
  },
  {
   "cell_type": "markdown",
   "metadata": {},
   "source": [
    "### 2.13 Toma de decisiones.\n",
    "\n",
    "Toma una decisión basada en los resultados de la prueba. Las decisiones posibles son: 1. Para la prueba, considera a uno de los grupos como líder. 2. Para la prueba, concluye que no hay diferencia entre los grupos. 3. Continúa la prueba."
   ]
  },
  {
   "cell_type": "markdown",
   "metadata": {},
   "source": [
    "Basado en los resultados de las pruebas anteriores, aquí está el razonamiento para tomar una decisión:\n",
    "\n",
    "<b> Resumen de Resultados: </b>\n",
    "\n",
    "1. **Conversión**:\n",
    "   - **Antes del filtrado**: \n",
    "     - p-valor: 0.017 (significativo).\n",
    "     - Incremento: 13.8% a favor del grupo B.\n",
    "   - **Después del filtrado**: \n",
    "     - p-valor: 0.020 (significativo).\n",
    "     - Incremento: 14.3% a favor del grupo B.\n",
    "\n",
    "2. **Tamaño Promedio de Pedido**:\n",
    "   - **Antes del filtrado**:\n",
    "     - p-valor: 0.692 (no significativo).\n",
    "     - Incremento: 25.2% a favor del grupo B.\n",
    "   - **Después del filtrado**:\n",
    "     - p-valor: 0.968 (no significativo).\n",
    "     - Cambio: -2.1% a favor del grupo A (es decir, el tamaño promedio de pedido del grupo B es ahora menor).\n",
    "\n",
    "<b> Análisis: </b>\n",
    "\n",
    "1. **Conversión**:\n",
    "   - La conversión muestra una diferencia estadísticamente significativa tanto antes como después del filtrado. El grupo B consistently muestra un mejor rendimiento en términos de conversión, lo que sugiere que hay un efecto positivo real en este grupo.\n",
    "\n",
    "2. **Tamaño Promedio de Pedido**:\n",
    "   - En contraste, el tamaño promedio de pedido no muestra una diferencia estadísticamente significativa en ningún momento. Además, la dirección del cambio se invierte tras el filtrado, lo que sugiere que cualquier diferencia inicial observada podría haber sido un artefacto de los datos no filtrados.\n",
    "\n",
    "<b> Decisión: </b>\n",
    "\n",
    "**Opción 1: Para la prueba, considera a uno de los grupos como líder.**\n",
    "\n",
    "**Razón**:\n",
    "- Aunque no hay una diferencia significativa en el tamaño promedio de pedido, el grupo B muestra una mejora significativa y consistente en la conversión, incluso después del filtrado de datos. Dado que la conversión es un indicador clave en muchas pruebas de optimización, este resultado positivo puede ser suficiente para considerar al grupo B como líder en esta prueba.\n",
    "\n",
    "<b> Implementación: </b>\n",
    "\n",
    "- **Propuesta**: Considerar al grupo B como el líder en esta prueba.\n",
    "  - **Acción**: Implementar la intervención o estrategia utilizada en el grupo B como la opción preferida, dado que mejora la conversión significativamente.\n",
    "  - **Observación Adicional**: Aunque no se observó una mejora significativa en el tamaño promedio de pedido, la mejora en la conversión puede llevar a un aumento general en los ingresos, lo que justifica esta decisión.\n",
    "\n",
    "### Conclusión General\n",
    "\n",
    "El análisis sugiere que, a pesar de la falta de diferencia en el tamaño promedio de pedido, el impacto positivo y significativo en la conversión del grupo B justifica considerarlo como líder para la prueba. Por lo tanto, la decisión es **considerar al grupo B como el líder** y proceder con la implementación de las estrategias utilizadas en este grupo."
   ]
  }
 ],
 "metadata": {
  "kernelspec": {
   "display_name": "Python 3 (ipykernel)",
   "language": "python",
   "name": "python3"
  },
  "language_info": {
   "codemirror_mode": {
    "name": "ipython",
    "version": 3
   },
   "file_extension": ".py",
   "mimetype": "text/x-python",
   "name": "python",
   "nbconvert_exporter": "python",
   "pygments_lexer": "ipython3",
   "version": "3.12.0"
  },
  "toc": {
   "base_numbering": 1,
   "nav_menu": {},
   "number_sections": true,
   "sideBar": true,
   "skip_h1_title": true,
   "title_cell": "Table of Contents",
   "title_sidebar": "Contents",
   "toc_cell": false,
   "toc_position": {},
   "toc_section_display": true,
   "toc_window_display": false
  }
 },
 "nbformat": 4,
 "nbformat_minor": 2
}
