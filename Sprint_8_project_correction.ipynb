{
 "cells": [
  {
   "cell_type": "markdown",
   "metadata": {},
   "source": [
    "# ¡Hola, Ulisis!  \n",
    "\n",
    "Mi nombre es Francisco Benavides, soy code reviewer de Tripleten y voy a revisar el proyecto que acabas de desarrollar.\n",
    "\n",
    "\n",
    "Cada ves que vea un error por primera vez, lo señalaré. Deberás encontrarlo y arreglarlo, ya que buscamos que te prepares para un trabajo real, en el cual tu líder de equipo hará lo mismo. Si no puedes solucionar el error, te brindaré algunos tips más especificos la proxima vez.\n",
    "\n",
    "Podrás encontrar mis comentarios más abajo - **por favor, no los muevas, no los modifiques ni los borres**.\n",
    "\n",
    "¿Cómo lo voy a hacer? Voy a leer cuidadosamente cada una de tus implementaciones que has llevado a cabo para complir con tu informe. Cada uno de mis comentarios tiene el siguiente código de colores:\n",
    "\n",
    "<div class=\"alert alert-block alert-success\">\n",
    "<b>Comentario del revisor</b> <a class=\"tocSkip\"></a>\n",
    "    \n",
    "Si todo está perfecto.\n",
    "</div>\n",
    "\n",
    "\n",
    "<div class=\"alert alert-block alert-warning\">\n",
    "<b>Comentario del revisor</b> <a class=\"tocSkip\"></a>\n",
    "    \n",
    "Si tu código está bien pero se puede mejorar o hay algún detalle que le hace falta.\n",
    "</div>\n",
    "\n",
    "\n",
    "<div class=\"alert alert-block alert-danger\">\n",
    "    \n",
    "<b>Comentario del revisor</b> <a class=\"tocSkip\"></a>\n",
    "    \n",
    "    \n",
    "Si de pronto hace falta algo o existe algún problema con tu código o conclusiones.\n",
    "</div>\n",
    "\n",
    "\n",
    "Si encuentras que es necesario, puedes responderme de esta forma: \n",
    "\n",
    "<div class=\"alert alert-block alert-info\">\n",
    "<b>Respuesta del estudiante</b> <a class=\"tocSkip\"></a>\n",
    "</div>\n",
    "\n",
    "Mucho éxito!"
   ]
  },
  {
   "cell_type": "markdown",
   "metadata": {},
   "source": [
    "# Sprint 8: Proyecto - Análisis de Negocio"
   ]
  },
  {
   "cell_type": "markdown",
   "metadata": {},
   "source": [
    "-   [Introducción](#introducción)\n",
    "-   [Importar bibliotecas](#importar-bibliotecas)\n",
    "-   [Cargar datos](#cargar-datos)\n",
    "-   [Informes y cálculo de métricas](#informes-y-cálculo-de-métricas)\n",
    "    -   [Visitas](#visitas)\n",
    "        -   [Actividad del usuario](#actividad-del-usuario)\n",
    "        -   [Factor de aherencia](#factor-de-adherencia)\n",
    "    -   [Ventas](#ventas)\n",
    "        -   [Tasa de conversióon](#tasa-de-conversión)\n",
    "        -   [Pedidos mensuales](#pedidos-mensuales)\n",
    "        -   [Tamaño promedio por compra en USD](#tamaño-promedio-por-compra-en-usd)\n",
    "        -   [Economía unitaria por cliente: LTV](#economía-unitaria-por-cliente-ltv)\n",
    "    -   [Marketing](#marketing)\n",
    "        -   [Gastos generales en marketing](#gastos-generales-en-marketing)\n",
    "        -   [Gastos por fuente de adquisición](#gastos-por-fuente-de-adquisición)\n",
    "        -   [Economía unitaria por cliente: CAC](#economía-unitaria-por-cliente-cac)\n",
    "        -   [Economía unitaria por cliente: ROMI](#economía-unitaria-por-cliente-romi)\n",
    "-   [Conclusiones](#conclusiones)"
   ]
  },
  {
   "cell_type": "markdown",
   "metadata": {},
   "source": [
    "## Introducción"
   ]
  },
  {
   "cell_type": "markdown",
   "metadata": {},
   "source": [
    "Se te ha ido muy bien en el curso TripleTen y te han ofrecido hacer prácticas en el departamento analítico de Y.Afisha. Tu primera tarea es ayudar a optimizar los gastos de marketing.\n",
    "\n",
    "Lo que tienes:\n",
    "\n",
    "* registros del servidor con datos sobre las visitas a Y.Afisha desde enero de 2017 hasta diciembre de 2018;\n",
    "* un archivo con los pedidos en este periodo;\n",
    "* estadísticas de gastos de marketing.\n",
    "\n",
    "Lo que vas a investigar:\n",
    "\n",
    "* cómo los clientes usan el servicio;\n",
    "* cuándo empiezan a comprar;\n",
    "* cuánto dinero aporta cada cliente a la compañía;\n",
    "* cuándo los ingresos cubren el costo de adquisición de los clientes.\n",
    "\n",
    "Instrucciones para completar el proyecto:\n",
    "\n",
    "Paso 1. Descarga los datos y prepáralos para el análisis\n",
    "\n",
    "Almacena los datos de visitas, pedidos y gastos en variables.  Optimiza los datos para el análisis. Asegúrate de que cada columna contenga el tipo de datos correcto.\n",
    "\n",
    "Rutas de archivos: \n",
    "\n",
    "`/datasets/visits_log_us.csv. Descarga el dataset`\n",
    "\n",
    "`/datasets/orders_log_us.csv. Descarga el dataset`\n",
    "\n",
    "`/datasets/costs_us.csv. Descarga el dataset`\n",
    "\n",
    "Paso 2. Haz informes y calcula métricas \n",
    "\n",
    "1. Visitas:\n",
    "    * ¿Cuántas personas lo usan cada día, semana y mes?\n",
    "    * ¿Cuántas sesiones hay por día? (Un/a usuario/a puede tener más de una sesión).\n",
    "    * ¿Cuál es la duración de cada sesión?\n",
    "    * ¿Con qué frecuencia los usuarios y las usuarias regresan?\n",
    "\n",
    "2. Ventas:\n",
    " \n",
    "    * ¿Cuándo la gente empieza a comprar? (En el análisis de KPI, generalmente nos interesa saber el tiempo que transcurre entre el registro y la conversión, es decir, cuando el/la usuario/a se convierte en cliente. Por ejemplo, si el registro y la primera compra ocurren el mismo día, el/la usuario/a podría caer en la categoría Conversion 0d. Si la primera compra ocurre al día siguiente, será Conversion 1d.  Puedes usar cualquier enfoque que te permita comparar las conversiones de diferentes cohortes para que puedas determinar qué cohorte o canal de marketing es más efectivo).\n",
    "    * ¿Cuántos pedidos hacen durante un período de tiempo dado?\n",
    "    * ¿Cuál es el tamaño promedio de compra?\n",
    "    * ¿Cuánto dinero traen? (LTV)\n",
    "\n",
    "3. Marketing:\n",
    " \n",
    "    * ¿Cuánto dinero se gastó? (Total/por fuente de adquisición/a lo largo del tiempo)\n",
    "    * ¿Cuál fue el costo de adquisición de clientes de cada una de las fuentes?\n",
    "    * ¿Cuán rentables eran las inversiones? (ROMI)\n",
    "\n",
    "Traza gráficos para mostrar cómo difieren estas métricas para varios dispositivos y fuentes de anuncios y cómo cambian con el tiempo. "
   ]
  },
  {
   "cell_type": "markdown",
   "metadata": {},
   "source": [
    "## Importar bibliotecas"
   ]
  },
  {
   "cell_type": "code",
   "execution_count": 22,
   "metadata": {},
   "outputs": [],
   "source": [
    "# Cargar todas las librerías\n",
    "from scipy import stats as st\n",
    "import numpy as np\n",
    "import pandas as pd\n",
    "import math as mt\n",
    "from matplotlib import pyplot as plt\n",
    "import seaborn as sns\n",
    "import plotly.express as px\n",
    "import re\n",
    "from IPython.display import Image, display\n",
    "import os\n"
   ]
  },
  {
   "cell_type": "markdown",
   "metadata": {},
   "source": [
    "## Cargar datos\n",
    "\n",
    "Se creó una función para cargar los datos de los archivos CSV ya que se llamará en más de una ocasión a lo largo del código."
   ]
  },
  {
   "cell_type": "code",
   "execution_count": 25,
   "metadata": {},
   "outputs": [],
   "source": [
    "def data_load():\t\n",
    "    ruta_archivo = os.path.join('datasets', 'costs_us.csv')\n",
    "    costs_dl = pd.read_csv(\n",
    "\t    ruta_archivo, \n",
    "\t    dtype={'source_id': 'category'}, \n",
    "\t    parse_dates=['dt'], \n",
    "\t    # nrows=500\n",
    "\t    )\n",
    "    #\n",
    "    ruta_archivo = os.path.join('datasets', 'orders_log_us.csv')\n",
    "    orders_dl = pd.read_csv(\n",
    "\t    ruta_archivo,\n",
    "\t    parse_dates = ['Buy Ts'],\n",
    "\t    # nrows = 500\n",
    "\t)\n",
    "    orders_dl.columns = ['buy_ts', 'revenue', 'uid']\n",
    "    #\n",
    "    ruta_archivo = os.path.join('datasets', 'visits_log_us.csv')\n",
    "    visits_dl = pd.read_csv(\n",
    "\t    ruta_archivo,\n",
    "\t    dtype={'Device': 'category', 'Source Id': 'int'}, \n",
    "\t    parse_dates = ['End Ts', 'Start Ts'],\n",
    "\t    # nrows = 500\n",
    "\t)\n",
    "    visits_dl.columns = ['device', 'end_ts', 'source_id', 'start_ts', 'uid']\n",
    "    return costs_dl, orders_dl, visits_dl"
   ]
  },
  {
   "cell_type": "code",
   "execution_count": 3,
   "metadata": {},
   "outputs": [],
   "source": [
    "# costs_us = pd.read_csv(\n",
    "#     'costs_us.csv', \n",
    "#     dtype={'source_id': 'category'}, \n",
    "#     parse_dates=['dt'], \n",
    "#     # nrows=500\n",
    "#     )\n",
    "\n",
    "# costs_us.info(memory_usage='deep')"
   ]
  },
  {
   "cell_type": "code",
   "execution_count": 4,
   "metadata": {},
   "outputs": [],
   "source": [
    "# orders = pd.read_csv(\n",
    "#     'orders_log_us.csv',\n",
    "#     parse_dates = ['Buy Ts'],\n",
    "#     # nrows = 500\n",
    "# )\n",
    "\n",
    "# orders.columns = ['buy_ts', 'revenue', 'uid']\n",
    "# orders.info(memory_usage = 'deep')"
   ]
  },
  {
   "cell_type": "code",
   "execution_count": 5,
   "metadata": {},
   "outputs": [],
   "source": [
    "# visits = pd.read_csv(\n",
    "#     'visits_log_us.csv',\n",
    "#     dtype={'Device': 'category', 'Source Id': 'int'}, \n",
    "#     parse_dates = ['End Ts', 'Start Ts'],\n",
    "#     # nrows = 500\n",
    "# )\n",
    "\n",
    "# visits.columns = ['device', 'end_ts', 'source_id', 'start_ts', 'uid']\n",
    "# visits.info(memory_usage = 'deep')"
   ]
  },
  {
   "cell_type": "code",
   "execution_count": 26,
   "metadata": {},
   "outputs": [],
   "source": [
    "[costs_us, orders, visits] = data_load()"
   ]
  },
  {
   "cell_type": "markdown",
   "metadata": {},
   "source": [
    "\n",
    "<div class=\"alert alert-block alert-danger\">\n",
    "<b>Comentario del revisor</b> <a class=\"tocSkip\"></a>\n",
    "    \n",
    "Tu codigo se rompe aca debido a las rutas, por favor recuerda colocar las rutas que permiten ejecutar el notebook en la plataforma para su revisión.</div>"
   ]
  },
  {
   "cell_type": "markdown",
   "metadata": {},
   "source": [
    "<div class=\"alert alert-block alert-info\">\n",
    "<b>Corrección:</b> Dado que soy usuario de windows, usando la biblioteca `os` y la línea de código `ruta_archivo = os.path.join('carpeta_datos', 'archivo.csv')` construyo la ruta para abrir los archivos .csv desde la carpeta datasets. <a class=\"tocSkip\"></a>"
   ]
  },
  {
   "cell_type": "code",
   "execution_count": null,
   "metadata": {},
   "outputs": [],
   "source": [
    "#Buscando duplicados\n",
    "print(costs_us.duplicated().unique())\n",
    "print(orders.duplicated().unique())\n",
    "print(visits.duplicated().unique())"
   ]
  },
  {
   "cell_type": "markdown",
   "metadata": {},
   "source": [
    "## Informes y cálculo de métricas "
   ]
  },
  {
   "cell_type": "markdown",
   "metadata": {},
   "source": [
    "### Visitas"
   ]
  },
  {
   "cell_type": "code",
   "execution_count": null,
   "metadata": {},
   "outputs": [],
   "source": []
  },
  {
   "cell_type": "markdown",
   "metadata": {},
   "source": [
    "####    Actividad del usuario"
   ]
  },
  {
   "cell_type": "markdown",
   "metadata": {},
   "source": [
    "Hay tres métricas principales que describen el número de usuarios activos:\n",
    "\n",
    "*   DAU (usuarios activos diarios): el número de usuarios activos diarios (únicos).\n",
    "*   WAU (usuarios activos semanales): el número de usuarios activos semanales.\n",
    "*   MAU (usuarios activos mensuales): el número de usuarios activos mensuales."
   ]
  },
  {
   "cell_type": "code",
   "execution_count": null,
   "metadata": {},
   "outputs": [],
   "source": [
    "visits['session_year']  = visits['start_ts'].dt.isocalendar().year\n",
    "visits['session_month'] = visits['start_ts'].dt.month\n",
    "visits['session_week'] = visits['start_ts'].dt.isocalendar().week\n",
    "visits['session_date'] = visits['start_ts'].dt.date\n",
    "# print(visits.head())"
   ]
  },
  {
   "cell_type": "code",
   "execution_count": null,
   "metadata": {},
   "outputs": [],
   "source": [
    "mau_total = (\n",
    "    visits.groupby(['session_year', 'session_month'])\n",
    "    .agg({'uid': 'nunique'})\n",
    "    .mean()\n",
    ")\n",
    "\n",
    "wau_total = (\n",
    "    visits.groupby(['session_year', 'session_week'])\n",
    "    .agg({'uid': 'nunique'})\n",
    "    .mean()\n",
    ")\n",
    "\n",
    "dau_total = (\n",
    "    visits.groupby(['session_date'])\n",
    "    .agg({'uid': 'nunique'})\n",
    "    .mean()\n",
    ")"
   ]
  },
  {
   "cell_type": "code",
   "execution_count": null,
   "metadata": {},
   "outputs": [],
   "source": [
    "print(f'----------------------------------------\\n',\n",
    "      'DAU (usuarios activos diarios): ', dau_total.astype('int').iloc[0],\n",
    "      '\\n----------------------------------------\\n',\n",
    "      '\\nWAU (usuarios activos semanales): ', wau_total.iloc[0].astype('int'), \n",
    "      '\\n----------------------------------------\\n',\n",
    "      '\\nMAU (usuarios activos mensuales): ', mau_total.iloc[0].astype('int'),\n",
    "      '\\n----------------------------------------',)"
   ]
  },
  {
   "cell_type": "code",
   "execution_count": null,
   "metadata": {},
   "outputs": [],
   "source": [
    "daily_sessions = visits.groupby('session_date').agg({'uid': ['count', 'nunique']})\n",
    "daily_sessions.columns = ['n_sessions', 'n_users']\n",
    "\n",
    "daily_sessions_mean = daily_sessions['n_sessions'].mean()\n",
    "\n",
    "print('Sesiones diarias:')\n",
    "print(daily_sessions.head())\n",
    "print(f'\\n--------------------------------\\n',\n",
    "      'Sesiones dirias promedio: ', \n",
    "      int(daily_sessions_mean),\n",
    "      '\\n--------------------------------',)"
   ]
  },
  {
   "cell_type": "markdown",
   "metadata": {},
   "source": [
    "<div class=\"alert alert-block alert-success\">\n",
    "<b>Comentario del revisor</b> <a class=\"tocSkip\"></a>\n",
    "    \n",
    "Muy buen calculados el dau, wau y mau\n",
    "</div>"
   ]
  },
  {
   "cell_type": "code",
   "execution_count": 27,
   "metadata": {},
   "outputs": [
    {
     "name": "stdout",
     "output_type": "stream",
     "text": [
      "Duración promedio de las sesiones :10.72 minutos\n"
     ]
    }
   ],
   "source": [
    "visits['session_duration_sec'] = (visits['end_ts'] - visits['start_ts'])#.dt.seconds\n",
    "visits['session_duration_sec'] = (visits['session_duration_sec'] / np.timedelta64(1, 'm'))\n",
    "\n",
    "print(f'Duración promedio de las sesiones :{visits['session_duration_sec'].mean():,.2f}', 'minutos')"
   ]
  },
  {
   "cell_type": "markdown",
   "metadata": {},
   "source": [
    "\n",
    "<div class=\"alert alert-block alert-danger\">\n",
    "<b>Comentario del revisor</b> <a class=\"tocSkip\"></a>\n",
    "    \n",
    "tu codigo se rompe aca, revisa bien los parentess de la ultima linea\n",
    "</div>"
   ]
  },
  {
   "cell_type": "markdown",
   "metadata": {},
   "source": [
    "<div class=\"alert alert-block alert-info\">\n",
    "<b>Nota sobre el comentario:</b> Ya revisé el código y funciona correctamente, obtengo el resultado `Duración promedio de las sesiones: 10.72 minutos` mostrando solo dos decimales. Puede que se rompiera el código debido a lo señalado en tu comentario anterior. <a class=\"tocSkip\"></a>"
   ]
  },
  {
   "cell_type": "markdown",
   "metadata": {},
   "source": [
    "Las métricas de actividad de los usuarios de la empresa muestran un comportamiento consistente y saludable en su base de usuarios activos, con niveles significativos de participación diaria, semanal y mensual.\n",
    "\n",
    "1. DAU (Usuarios Activos Diarios): Con 907 usuarios activos diariamente, la empresa demuestra una buena retención diaria, lo que sugiere que una proporción sólida de usuarios encuentra valor en los servicios y los utiliza de manera frecuente.\n",
    "\n",
    "2. WAU (Usuarios Activos Semanales): El número de usuarios activos semanales es de 5716, lo que indica que una mayor cantidad de usuarios se involucra con los servicios a lo largo de la semana, posiblemente reflejando patrones de uso que varían según días específicos o necesidades semanales.\n",
    "\n",
    "3. MAU (Usuarios Activos Mensuales): Con 23,228 usuarios activos mensuales, la empresa tiene una base de usuarios considerable que interactúa con los servicios al menos una vez al mes. Este número, comparado con los DAU y WAU, sugiere que la mayoría de los usuarios son más esporádicos en su uso, aunque la base diaria sigue siendo robusta.\n",
    "\n",
    "4. Sesiones Diarias:\n",
    "\n",
    "    *   Las sesiones diarias registradas oscilan entre 477 y 893 en el periodo dado, con un promedio de 987 sesiones diarias. Esto sugiere que la actividad del usuario es estable, aunque podría haber días específicos con menor o mayor actividad.\n",
    "    *   Relación entre DAU y Sesiones Diarias: Dado que el número de sesiones es similar al número de usuarios activos diarios, esto indica que los usuarios suelen realizar aproximadamente una sesión por día, lo que podría reflejar un hábito de uso específico o un patrón de interacción breve y eficaz.\n",
    "\n",
    "5. Duración Promedio de las Sesiones: Con una duración promedio de 10.72 minutos por sesión, los usuarios parecen estar dedicando un tiempo razonable a cada sesión, lo que sugiere que el contenido o los servicios ofrecidos mantienen el interés durante un periodo suficientemente largo como para ser efectivos en cumplir sus objetivos."
   ]
  },
  {
   "cell_type": "markdown",
   "metadata": {},
   "source": [
    "#### Factor de adherencia"
   ]
  },
  {
   "cell_type": "markdown",
   "metadata": {},
   "source": [
    "Esta métrica te dice qué tan leal es la audiencia, con qué frecuencia regresan a la aplicación. La fórmula es simple: \n",
    "*   Semanal\n",
    "$$\n",
    "sticky factor = DAU/WAU\n",
    "$$\n",
    "*   Mensual\n",
    "$$\n",
    "sticky factor = DAU/MAU\n",
    "$$"
   ]
  },
  {
   "cell_type": "markdown",
   "metadata": {},
   "source": [
    "<div class=\"alert alert-block alert-info\">\n",
    "<b>Nota:</b> No entendí a que se refieren con la prgunta `¿Con qué frecuencia los usuarios y las usuarias regresan?`. Creo que se refiere al `factor de adherencia`, pero, también obtuve el porcentaje de usuarios que regresan a la aplicación, el porcetaje de ususarios que vuelve a hacer un pedido. <a class=\"tocSkip\"></a>"
   ]
  },
  {
   "cell_type": "markdown",
   "metadata": {},
   "source": [
    "<div class=\"alert alert-block alert-success\">\n",
    "<b>Comentario del revisor</b> <a class=\"tocSkip\"></a>\n",
    "    \n",
    "Exactamente hace referencia a los sticky factor\n",
    "</div>"
   ]
  },
  {
   "cell_type": "code",
   "execution_count": null,
   "metadata": {},
   "outputs": [],
   "source": [
    "aux = visits.groupby(['uid']).agg({'uid' : 'count'})\n",
    "clients = aux[aux > 1].dropna()\n",
    "\n",
    "# aux.info()\n",
    "print('\\n--------------------------------------------------------------------\\n')\n",
    "# clients.info()\n",
    "\n",
    "print(f'\\n\\n -----------------------------------------------------------------------\\n', \n",
    "      '| El ', int(len(clients)/len(aux)*100), \n",
    "      '% de los usuarios regresan a la aplicación al menos una vez. |',\n",
    "      '\\n -----------------------------------------------------------------------'\n",
    "      )"
   ]
  },
  {
   "cell_type": "code",
   "execution_count": null,
   "metadata": {},
   "outputs": [],
   "source": [
    "aux = orders.groupby(['uid']).agg({'uid' : 'count'})\n",
    "client_series = aux[aux > 1].dropna()\n",
    "\n",
    "# aux.info()\n",
    "print('\\n--------------------------------------------------------------------\\n')\n",
    "# client_series.info()\n",
    "\n",
    "print(f'\\n\\n ----------------------------------------------------\\n', \n",
    "      '| El ', int(len(client_series)/len(aux)*100), \n",
    "      '% de los usuarios hacen más de una orden. |',\n",
    "      '\\n ----------------------------------------------------'\n",
    "      )"
   ]
  },
  {
   "cell_type": "code",
   "execution_count": null,
   "metadata": {},
   "outputs": [],
   "source": [
    "sticky_wau = (dau_total/wau_total) * 100\n",
    "print(f'Factor de adherencia: ', sticky_wau.astype('int').iloc[0])"
   ]
  },
  {
   "cell_type": "markdown",
   "metadata": {},
   "source": [
    "Las métricas proporcionadas reflejan la capacidad de la empresa para atraer y retener usuarios, así como su efectividad en fomentar comportamientos de compra repetitiva. Aquí se presenta un análisis de los datos:\n",
    "\n",
    "1. Retención de Usuarios:\n",
    "\n",
    "    Solo el 22% de los usuarios regresan a la aplicación al menos una vez. Esta baja tasa de retención indica que la mayoría de los usuarios no encuentran suficiente valor o incentivo para volver a utilizar el servicio después de su primera interacción. Esto podría sugerir la necesidad de mejorar la experiencia de usuario, el contenido, o las estrategias de re-engagement.\n",
    "\n",
    "2. Comportamiento de Compra:\n",
    "\n",
    "    El 17% de los usuarios realizan más de una orden. Aunque este porcentaje es cercano al de retención, muestra que un número aún menor de usuarios se convierte en clientes recurrentes. Esto podría estar relacionado con la calidad del servicio, la satisfacción del cliente, o la oferta de productos. Mejorar las ofertas promocionales o programas de lealtad podría aumentar esta cifra.\n",
    "\n",
    "3. Factor de Adherencia:\n",
    "\n",
    "    Un factor de adherencia de 15 sugiere que aquellos usuarios que permanecen y realizan compras tienden a hacerlo con relativa frecuencia. Este es un punto positivo que indica que, aunque la base de usuarios recurrentes es pequeña, aquellos que se mantienen comprometidos muestran un alto nivel de interacción con el servicio."
   ]
  },
  {
   "cell_type": "markdown",
   "metadata": {},
   "source": [
    "<div class=\"alert alert-block alert-success\">\n",
    "<b>Comentario del revisor</b> <a class=\"tocSkip\"></a>\n",
    "    \n",
    "Muy bien calculado los factores de adherencia\n",
    "</div>"
   ]
  },
  {
   "cell_type": "markdown",
   "metadata": {},
   "source": [
    "<div class=\"alert alert-block alert-warning\">\n",
    "<b>Comentario del revisor</b> <a class=\"tocSkip\"></a>\n",
    "\n",
    "Tambien puedes calcular la tasa de retención por cohortes en esta sección\n",
    "</div>"
   ]
  },
  {
   "cell_type": "markdown",
   "metadata": {},
   "source": [
    "<div class=\"alert alert-block alert-info\">\n",
    "<b>Nota:</b> Tuve muchos problemas al hacer operaciones con las deltas de tiempo de numpy porque la versión de `pandas` que tengo instalada ya no permite las operaciones con varias de las deltas de tiempo que se utilizaron en este Sprint. ¿Pudieras comentarme que versión es la que usan en la plataforma, y la forma de instalarla sobre mi versión? Gracias 😁<a class=\"tocSkip\"></a>"
   ]
  },
  {
   "cell_type": "markdown",
   "metadata": {},
   "source": [
    "### Ventas"
   ]
  },
  {
   "cell_type": "markdown",
   "metadata": {},
   "source": [
    "#### Tasa de conversión"
   ]
  },
  {
   "cell_type": "code",
   "execution_count": null,
   "metadata": {},
   "outputs": [],
   "source": [
    "clients = visits.merge(orders, on= 'uid', how = 'right')\n",
    "print(len(clients), len(visits), len(orders))\n",
    "# print(clients.head(10))"
   ]
  },
  {
   "cell_type": "code",
   "execution_count": null,
   "metadata": {},
   "outputs": [],
   "source": [
    "clients.info()"
   ]
  },
  {
   "cell_type": "code",
   "execution_count": null,
   "metadata": {},
   "outputs": [],
   "source": [
    "first_activity_date = clients.groupby(['uid'])['start_ts'].min().dt.date\n",
    "first_activity_date.name = 'first_activity_date'\n",
    "clients = clients.join(first_activity_date, on='uid')"
   ]
  },
  {
   "cell_type": "code",
   "execution_count": null,
   "metadata": {},
   "outputs": [],
   "source": [
    "first_buy_date = clients.groupby(['uid'])['buy_ts'].min().dt.date\n",
    "first_buy_date.name = 'first_buy_date'\n",
    "clients = clients.join(first_buy_date, on='uid')"
   ]
  },
  {
   "cell_type": "code",
   "execution_count": null,
   "metadata": {},
   "outputs": [],
   "source": [
    "# clients.info()\n",
    "print(clients[['first_activity_date','source_id', 'first_buy_date']].sample(5, random_state= 4123))"
   ]
  },
  {
   "cell_type": "code",
   "execution_count": null,
   "metadata": {},
   "outputs": [],
   "source": [
    "clients_cohort = clients[['uid', 'device', 'source_id', 'first_activity_date', 'first_buy_date']]\n",
    "\n",
    "print(f'-----------------------------------------\\n',\n",
    "      '\\tDuplicated rows:',\n",
    "      len(clients_cohort[clients_cohort.duplicated()]),\n",
    "      '\\n-----------------------------------------\\n'\n",
    "      )\n",
    "\n",
    "clients_cohort = clients_cohort.drop_duplicates()\n",
    "clients_cohort['first_buy_date'] = pd.to_datetime(clients_cohort['first_buy_date'])\n",
    "clients_cohort['first_activity_date'] = pd.to_datetime(clients_cohort['first_activity_date'])\n",
    "# clients_cohort['conversion'] = pd.to_datetime(clients_cohort['first_buy_date'].dt.date) - pd.to_timedelta(clients_cohort['first_activity_date'].dt.date)\n",
    "clients_cohort['conversion'] = (clients_cohort['first_buy_date'] - clients_cohort['first_activity_date']).dt.days\n",
    "\n",
    "# clients_cohort.info()\n",
    "# print(clients_cohort.head())\n",
    "# print(clients_cohort.sample(5, random_state= 4123))\n",
    "print(clients_cohort['conversion'].nunique())\n",
    "# print(clients_cohort['conversion'].value_counts().head(20))\n",
    "print(clients_cohort['source_id'].unique())"
   ]
  },
  {
   "cell_type": "code",
   "execution_count": null,
   "metadata": {},
   "outputs": [],
   "source": [
    "source_conversion = []\n",
    "for source in clients_cohort['source_id'].unique():\n",
    "    source_conversion.append(\n",
    "        len(clients_cohort[clients_cohort['source_id'] == source])\n",
    "    )\n",
    "\n",
    "# print(clients_cohort['source_id'].unique())\n",
    "# print(source_conversion)"
   ]
  },
  {
   "cell_type": "code",
   "execution_count": null,
   "metadata": {},
   "outputs": [],
   "source": [
    "# source_conversion = dict(zip(clients_cohort['source_id'].unique(), source_conversion))\n",
    "# print(source_conversion)\n",
    "source_conversion = pd.DataFrame({\n",
    "    'source_id': clients_cohort['source_id'].unique(),\n",
    "    'conversion_count': source_conversion\n",
    "}).sort_values('conversion_count', ascending= False).reset_index(drop=True)\n",
    "\n",
    "print(source_conversion)\n"
   ]
  },
  {
   "cell_type": "code",
   "execution_count": null,
   "metadata": {},
   "outputs": [],
   "source": [
    "source_conversion.plot(\n",
    "    x='source_id',\n",
    "    y= 'conversion_count',\n",
    "    kind='bar',\n",
    "    figsize=[10,5],\n",
    "    grid=True,\n",
    "    color = '#FFA0FF',\n",
    "    yticks = np.linspace(0, 15000, 16),\n",
    "    title = 'Amount of first buys per source',\n",
    "    ylabel = 'Amount of first buys',\n",
    "    xlabel = 'Source Id',\n",
    "    legend = False\n",
    "    )\n",
    "\n",
    "# plt.legend()\n",
    "plt.xticks(rotation= 0)\n",
    "plt.show()"
   ]
  },
  {
   "cell_type": "code",
   "execution_count": null,
   "metadata": {},
   "outputs": [],
   "source": [
    "def switch(case):\n",
    "    if case == 0:\n",
    "        return '0'\n",
    "    elif case == 1:\n",
    "        return '1'\n",
    "    elif case == 2:\n",
    "        return '2'\n",
    "    elif case == 3:\n",
    "        return '3'\n",
    "    elif case == 4:\n",
    "        return '4'\n",
    "    elif case == 5:\n",
    "        return '5'\n",
    "    elif case == 6:\n",
    "        return '6'\n",
    "    elif case == 7:\n",
    "        return '7'\n",
    "    else:\n",
    "        return '7+'\n",
    "\n",
    "conversion = []\n",
    "\n",
    "for conv in clients_cohort['conversion']:\n",
    "    conversion.append(switch(conv))\n",
    "\n",
    "print(len(conversion))\n",
    "print(len(clients_cohort))"
   ]
  },
  {
   "cell_type": "code",
   "execution_count": null,
   "metadata": {},
   "outputs": [],
   "source": [
    "clients_cohort['conversion'] = conversion\n",
    "# print(clients_cohort.sample(10))\n",
    "# print(clients_cohort['conversion'].nunique())\n",
    "print(clients_cohort['conversion'].value_counts())"
   ]
  },
  {
   "cell_type": "code",
   "execution_count": null,
   "metadata": {},
   "outputs": [],
   "source": [
    "clients_cohort['conversion'].value_counts().plot(\n",
    "    # x='source_id',\n",
    "    # y= 'conversion_count',\n",
    "    kind='bar',\n",
    "    figsize=[10,5],\n",
    "    grid=True,\n",
    "    color = '#FFA0FF',\n",
    "    yticks = np.linspace(0, 35000, 15),\n",
    "    title = 'Cantidad de clientes por categoría de conversión',\n",
    "    ylabel = 'Clientes',\n",
    "    xlabel = 'Categoría de conversión',\n",
    "    legend = False\n",
    "    )\n",
    "\n",
    "# plt.legend()\n",
    "plt.xticks(rotation= 0)\n",
    "plt.show()"
   ]
  },
  {
   "cell_type": "code",
   "execution_count": null,
   "metadata": {},
   "outputs": [],
   "source": [
    "# clients_cln = visits.merge(orders, on= 'uid', how='inner')\n",
    "# clients_cln = clients\n",
    "# clients_cln.info()\n",
    "# print(f'-----------------------------------------\\n',\n",
    "#       '\\tDuplicated rows:',\n",
    "#       len(clients_cln[clients_cln.duplicated()]),\n",
    "#       '\\n-----------------------------------------\\n'\n",
    "#       )\n",
    "# # print(len(clients_cln))\n",
    "clients.info()"
   ]
  },
  {
   "cell_type": "code",
   "execution_count": null,
   "metadata": {},
   "outputs": [],
   "source": [
    "clients['first_buy_date'] = pd.to_datetime(clients['first_buy_date'])\n",
    "clients['buy_ts'] = pd.to_datetime(clients['buy_ts'])\n",
    "\n",
    "clients['first_order_month'] = clients['first_buy_date'].dt.to_period('M')\n",
    "clients['order_month'] = clients['buy_ts'].dt.to_period('M')\n",
    "print(clients.head(10))"
   ]
  },
  {
   "cell_type": "markdown",
   "metadata": {},
   "source": [
    "Los datos proporcionados ofrecen una visión sobre la efectividad de diferentes fuentes de marketing y el tiempo que tardan los usuarios en convertirse después de su primer contacto. Aquí se presentan las conclusiones basadas en estos datos:\n",
    "\n",
    "1. Tasa de Conversión por Fuente de Marketing\n",
    "\n",
    "    *   Fuentes de Marketing con Alta Tasa de Conversión:\n",
    "\n",
    "        *   La fuente de marketing 4 tiene la tasa de conversión más alta, con 14,807 usuarios convertidos. Esto sugiere que esta fuente es la más efectiva en convertir usuarios potenciales en clientes.\n",
    "        *   Otras fuentes con altas tasas de conversión son las fuentes 3 (14,363) y 5 (10,350), lo que indica que estas también son bastante efectivas.\n",
    "\n",
    "    *   Fuentes de Marketing con Baja Tasa de Conversión:\n",
    "\n",
    "        *   Las fuentes 10 (1,810) y 7 (1) tienen tasas de conversión significativamente menores, lo que indica que estas fuentes tienen un impacto reducido en la conversión de usuarios.\n",
    "\n",
    "    *   Recomendación:\n",
    "\n",
    "        *   Es recomendable enfocar recursos y esfuerzos en las fuentes de marketing con mayores tasas de conversión para maximizar el retorno sobre la inversión. Las fuentes con tasas más bajas podrían necesitar una revisión de estrategia o podrían ser menos efectivas en general.\n",
    "\n",
    "2. Tiempo para la Conversión de Usuarios\n",
    "\n",
    "    *   Tiempo de Conversión Rápido:\n",
    "\n",
    "        *   Una gran mayoría de usuarios (34,099) se convierte en el mismo día (día 0), lo que indica una rápida conversión de la mayoría de los usuarios.\n",
    "\n",
    "    *   Tiempo de Conversión Lento:\n",
    "\n",
    "        *   Un número significativo de usuarios (16,633) tarda 7 días o más en convertirse. Esto sugiere que, para algunos usuarios, el proceso de conversión es más largo y puede requerir más interacciones o tiempo para tomar una decisión.\n",
    "\n",
    "    *   Otros Intervalos de Tiempo:\n",
    "\n",
    "        *   Los usuarios que se convierten en 1 a 6 días muestran un interés progresivo pero no inmediato, con una cantidad de usuarios decreciente conforme aumenta el tiempo de conversión.\n",
    "\n",
    "    *   Recomendación:\n",
    "\n",
    "        *   Dado que la mayoría de los usuarios se convierten rápidamente, se podría optimizar el proceso de conversión para estos usuarios rápidos para maximizar el rendimiento. Para los usuarios que tardan más tiempo en convertir, considerar estrategias de retención y seguimiento, como correos electrónicos de recordatorio o ofertas adicionales, podría ayudar a acelerar la conversión."
   ]
  },
  {
   "cell_type": "markdown",
   "metadata": {},
   "source": [
    "<div class=\"alert alert-block alert-success\">\n",
    "<b>Comentario del revisor</b> <a class=\"tocSkip\"></a>\n",
    "    \n",
    "Gran trabajo con las tasas de conversion\n",
    "</div>"
   ]
  },
  {
   "cell_type": "markdown",
   "metadata": {},
   "source": [
    "#### Pedidos mensuales"
   ]
  },
  {
   "cell_type": "code",
   "execution_count": null,
   "metadata": {},
   "outputs": [],
   "source": [
    "# Se usa el método count para contar la cantidad de compras por mes.\n",
    "buys_cohort = clients.groupby('order_month').agg({'uid' : 'count', 'revenue' : 'sum'})\n",
    "print(buys_cohort)"
   ]
  },
  {
   "cell_type": "code",
   "execution_count": null,
   "metadata": {},
   "outputs": [],
   "source": [
    "# print(clients[clients['order_month'] == '2018-06'])"
   ]
  },
  {
   "cell_type": "markdown",
   "metadata": {},
   "source": [
    "#### Tamaño promedio por compra en USD"
   ]
  },
  {
   "cell_type": "code",
   "execution_count": null,
   "metadata": {},
   "outputs": [],
   "source": [
    "# Tamaño promedio de la compra\n",
    "mean_buy = orders['revenue'].mean()\n",
    "print(mean_buy)"
   ]
  },
  {
   "cell_type": "markdown",
   "metadata": {},
   "source": [
    "#### Economía unitaria por cliente: LTV"
   ]
  },
  {
   "cell_type": "markdown",
   "metadata": {},
   "source": [
    "El LTV (lifetime value en inglés) es el valor \"de vida\" del cliente. Es la cantidad total de dinero que un cliente aporta a la empresa en promedio al realizar compras. Al calcular el LTV, los y las analistas suelen considerar el beneficio bruto de un/a cliente/a por período."
   ]
  },
  {
   "cell_type": "code",
   "execution_count": null,
   "metadata": {},
   "outputs": [],
   "source": [
    "orders.info()"
   ]
  },
  {
   "cell_type": "code",
   "execution_count": null,
   "metadata": {},
   "outputs": [],
   "source": [
    "orders['order_month'] = pd.to_datetime(orders['buy_ts'], format=\"%Y-%m\").dt.date #.dt.to_period('M')\n",
    "# clients['first_order_month'] = clients['first_buy_date'].dt.to_period('M')\n",
    "# orders['order_month'] = orders['buy_ts'].astype('datetime64[M]')\n",
    "orders['order_month'] = pd.to_datetime(orders['order_month'], format=\"%Y-%m\")\n",
    "orders['order_month'] = orders['order_month'].dt.strftime('%Y-%m')\n",
    "orders['order_month'] = pd.to_datetime(orders['order_month'], format=\"%Y-%m\")\n",
    "orders.info()"
   ]
  },
  {
   "cell_type": "code",
   "execution_count": null,
   "metadata": {},
   "outputs": [],
   "source": [
    "first_orders = orders.groupby('uid').agg({'order_month': 'min'}).reset_index()\n",
    "first_orders.columns = ['uid', 'first_order_month']\n",
    "# first_orders['first_order_month'] = pd.to_datetime(first_orders['first_order_month'], format=\"%Y-%m\")\n",
    "first_orders.head()"
   ]
  },
  {
   "cell_type": "code",
   "execution_count": null,
   "metadata": {},
   "outputs": [],
   "source": [
    "cohort_sizes = first_orders.groupby('first_order_month').agg({'uid': 'nunique'}).reset_index()\n",
    "cohort_sizes.columns = ['first_order_month', 'n_buyers']\n",
    "cohort_sizes.head()"
   ]
  },
  {
   "cell_type": "code",
   "execution_count": null,
   "metadata": {},
   "outputs": [],
   "source": [
    "orders_ = pd.merge(orders,first_orders, on='uid')\n",
    "orders_.head()"
   ]
  },
  {
   "cell_type": "code",
   "execution_count": null,
   "metadata": {},
   "outputs": [],
   "source": [
    "cohorts = orders_.groupby(['first_order_month','order_month']).agg({'revenue': 'sum'}).reset_index()\n",
    "cohorts.head()"
   ]
  },
  {
   "cell_type": "code",
   "execution_count": null,
   "metadata": {},
   "outputs": [],
   "source": [
    "report = pd.merge(cohort_sizes, cohorts, on='first_order_month')\n",
    "report['first_order_month'] =  pd.to_datetime(report['first_order_month'], format=\"%Y-%m\")\n",
    "# report.head()\n",
    "report.info()"
   ]
  },
  {
   "cell_type": "code",
   "execution_count": null,
   "metadata": {},
   "outputs": [],
   "source": [
    "margin_rate = 0.5\n",
    "\n",
    "report['gp'] = report['revenue'] * margin_rate\n",
    "report['age'] = (\n",
    "    report['order_month'] - report['first_order_month']\n",
    ") / np.timedelta64(1, 'D') / 30\n",
    "report['age'] = report['age'].round().astype('int')\n",
    "\n",
    "# report.sample(20, random_state=1234)\n",
    "# report.info()\n",
    "report.head()"
   ]
  },
  {
   "cell_type": "code",
   "execution_count": null,
   "metadata": {},
   "outputs": [],
   "source": [
    "report['ltv'] = report['gp'] / report['n_buyers']\n",
    "report.head()\n",
    "# print(report.groupby(['first_order_month', 'order_month'])['ltv'].mean())\n",
    "# print(len(report.groupby('first_order_month')['ltv'].mean()))"
   ]
  },
  {
   "cell_type": "code",
   "execution_count": null,
   "metadata": {},
   "outputs": [],
   "source": [
    "output = report.pivot_table(\n",
    "    index='first_order_month', columns='age', values='ltv', aggfunc='mean'\n",
    ")#.round()\n",
    "\n",
    "output.fillna('')"
   ]
  },
  {
   "cell_type": "markdown",
   "metadata": {},
   "source": [
    "El análisis de la métrica LTV (Lifetime Value) mensual de la empresa a lo largo del tiempo muestra varios patrones importantes que pueden influir en las decisiones estratégicas y operativas de la empresa:\n",
    "\n",
    "1. Tendencia Inicial Elevada en el LTV\n",
    "    *   En la mayoría de los meses, el LTV más alto se observa en el mes inicial (age = 0). Esto indica que los usuarios tienden a generar el mayor valor en su primer mes de actividad tras realizar su primera orden. Por ejemplo, en junio de 2017, el LTV es de 2.36, y en julio de 2017, es de 3.00, siendo estos valores significativamente más altos que los meses posteriores.\n",
    "\n",
    "2. Disminución Gradual del LTV\n",
    "    *   Después del primer mes, hay una tendencia general a la disminución del LTV con el paso del tiempo. Aunque hay algunos repuntes en meses específicos, la mayoría de las cohortes muestra una disminución constante. Esto podría indicar una baja en la actividad o en las compras de los usuarios a medida que pasa el tiempo desde su primera compra.\n",
    "\n",
    "3. Variabilidad entre Cohortes\n",
    "    *   Hay una considerable variabilidad entre los diferentes meses de primera orden. Por ejemplo, la cohorte de septiembre de 2017 muestra un aumento significativo en el tercer mes (age = 3) con un LTV de 1.98, mientras que en otros meses como julio y octubre, no se observa tal incremento. Esto sugiere que algunos factores específicos de esas cohortes, como campañas de marketing, promociones o cambios en la oferta de productos, pudieron haber influido en estos picos.\n",
    "\n",
    "4. Cohortes Recientes con LTV Más Bajo\n",
    "    *   Las cohortes más recientes (2018) muestran un LTV inicial más bajo en comparación con las cohortes anteriores. Esto puede ser indicativo de cambios en la base de usuarios, estrategias de adquisición, o en la oferta de productos/servicios de la empresa. Un LTV inicial más bajo podría ser una señal de alerta para revisar la estrategia de retención y fidelización de clientes.\n",
    "\n",
    "5. Recomendaciones Estratégicas\n",
    "\n",
    "   *   Optimización de Retención: La empresa debería enfocarse en estrategias para mantener y aumentar el LTV en los meses posteriores a la primera orden. Esto podría incluir programas de fidelización, ofertas especiales para usuarios recurrentes, o personalización en la comunicación.\n",
    "\n",
    "   *   Análisis de Cohortes: Es recomendable llevar a cabo un análisis más profundo de las cohortes que muestran repuntes en el LTV en meses específicos para identificar qué factores pueden haber contribuido a esos aumentos y si pueden ser replicados.\n",
    "\n",
    "   *   Ajuste de Estrategias de Adquisición: Dado que las cohortes más recientes muestran un LTV inicial más bajo, podría ser necesario revisar y ajustar las estrategias de adquisición de clientes para asegurarse de que la empresa está atrayendo a los usuarios adecuados, aquellos con un mayor potencial de LTV a largo plazo."
   ]
  },
  {
   "cell_type": "markdown",
   "metadata": {},
   "source": [
    "<div class=\"alert alert-block alert-success\">\n",
    "<b>Comentario del revisor</b> <a class=\"tocSkip\"></a>\n",
    "    \n",
    "Gran trabajo calculando el LTV\n",
    "</div>"
   ]
  },
  {
   "cell_type": "markdown",
   "metadata": {},
   "source": [
    "### Marketing"
   ]
  },
  {
   "cell_type": "markdown",
   "metadata": {},
   "source": [
    "#### Gastos generales en marketing"
   ]
  },
  {
   "cell_type": "code",
   "execution_count": null,
   "metadata": {},
   "outputs": [],
   "source": [
    "total_mkt_costs = costs_us['costs'].sum()\n",
    "print(f'Gastos totales de marketing: $',total_mkt_costs, 'USD')"
   ]
  },
  {
   "cell_type": "markdown",
   "metadata": {},
   "source": [
    "#### Gastos por fuente de adquisición"
   ]
  },
  {
   "cell_type": "code",
   "execution_count": null,
   "metadata": {},
   "outputs": [],
   "source": [
    "source_costs = costs_us.groupby('source_id', observed=False).agg({'costs':'sum'}).sort_values(by= 'costs', ascending= False)\n",
    "print(source_costs)"
   ]
  },
  {
   "cell_type": "code",
   "execution_count": null,
   "metadata": {},
   "outputs": [],
   "source": [
    "source_costs.plot(\n",
    "    # x='source_id',\n",
    "    # y= 'conversion_count',\n",
    "    kind='bar',\n",
    "    figsize=[10,8],\n",
    "    grid=True,\n",
    "    color = '#FFA0FF',\n",
    "    yticks = np.linspace(0, 140000, 15),\n",
    "    title = 'Gastos por fuente de adquisición',\n",
    "    ylabel = 'Gastos (USD)',\n",
    "    xlabel = 'Fuente de adquisición (ID)',\n",
    "    legend = False\n",
    "    )\n",
    "\n",
    "# plt.legend()\n",
    "plt.xticks(rotation= 0)\n",
    "plt.show()"
   ]
  },
  {
   "cell_type": "code",
   "execution_count": null,
   "metadata": {},
   "outputs": [],
   "source": [
    "costs_us['month'] = costs_us['dt'].dt.strftime('%Y-%m')\n",
    "# costs_us['month'] = pd.to_datetime(costs_us['month'], format=\"%Y-%m\")\n",
    "# costs_us.head()"
   ]
  },
  {
   "cell_type": "code",
   "execution_count": null,
   "metadata": {},
   "outputs": [],
   "source": [
    "# costs_us['month'].unique()"
   ]
  },
  {
   "cell_type": "code",
   "execution_count": null,
   "metadata": {},
   "outputs": [],
   "source": [
    "costs_time = costs_us.groupby(['source_id','month'], observed= False).agg({'costs' : 'sum'}).reset_index()\n",
    "costs_time['month'] = pd.to_datetime(costs_time['month'], format=\"%Y-%m\")\n",
    "print(costs_time)\n",
    "# costs_time.info()"
   ]
  },
  {
   "cell_type": "code",
   "execution_count": null,
   "metadata": {},
   "outputs": [],
   "source": [
    "sources = costs_time['source_id'].unique()#.astype('str')\n",
    "print(sources)"
   ]
  },
  {
   "cell_type": "code",
   "execution_count": null,
   "metadata": {},
   "outputs": [],
   "source": [
    "plt.figure(figsize=(12, 5))\n",
    "\n",
    "for source in sources:\n",
    "    df = costs_time[costs_time['source_id'] == source][['month', 'costs']]\n",
    "    # print(f'Gastos por mes de la fuente '+source+' de Marketing\\n',df,#df.head(1),\n",
    "    #       '\\n-----------\\n'\n",
    "    #       )\n",
    "    plt.plot(df['month'], df['costs'], label=str(source))\n",
    "\n",
    "plt.title('Gastos totales por mes de cada funte de Marketing')\n",
    "plt.xlabel('Meses registrados')\n",
    "plt.ylabel('$ USD')\n",
    "plt.grid(True)\n",
    "plt.xticks(rotation= 30)\n",
    "plt.legend(sources)\n"
   ]
  },
  {
   "cell_type": "markdown",
   "metadata": {},
   "source": [
    "El análisis de los gastos mensuales de diferentes fuentes de marketing en la empresa revela tendencias y variaciones significativas en la inversión a lo largo del tiempo. Aquí se presentan las conclusiones clave:\n",
    "\n",
    "1. Comparación de Gastos entre Fuentes de Marketing\n",
    "\n",
    "    *   Fuente 3: Esta fuente es la que recibe la mayor inversión de marketing, con picos significativos en octubre y noviembre de 2017, superando los 15,000 y 17,000 unidades monetarias respectivamente. Estos altos niveles de gasto sugieren que esta fuente es considerada estratégica para la empresa.\n",
    "\n",
    "    *   Fuente 2: También se observa una inversión considerable en la fuente 2, especialmente en los últimos meses de 2017 y principios de 2018, con gastos que superan los 5,000 unidades monetarias. Este gasto alto puede reflejar campañas agresivas o estrategias de adquisición clave.\n",
    "\n",
    "    *   Fuentes 4 y 5: Estas fuentes muestran un gasto moderado, con un incremento significativo hacia finales de 2017 y principios de 2018. Aunque sus picos no alcanzan los niveles de la fuente 3, siguen siendo relevantes para la estrategia de marketing.\n",
    "\n",
    "    *   Fuentes 1, 9 y 10: Estas fuentes tienen los niveles de gasto más bajos. En particular, la fuente 9 y la fuente 10 muestran inversiones mensuales que rara vez superan las 1,000 unidades monetarias. Esto podría indicar una menor prioridad estratégica o un enfoque en campañas más específicas o de menor escala.\n",
    "\n",
    "2. Evolución de los Gastos a lo Largo del Tiempo\n",
    "\n",
    "    *   Tendencia Ascendente en 2017: La mayoría de las fuentes muestran un aumento en los gastos a medida que se avanza en el año 2017, alcanzando picos hacia octubre y noviembre, posiblemente relacionados con campañas de fin de año o temporadas de mayor consumo.\n",
    "\n",
    "    *   Estabilización en 2018: En el primer trimestre de 2018, se observa una estabilización o ligera disminución en los gastos, lo que puede reflejar un ajuste de las estrategias de marketing o una fase de optimización tras un período de inversión intensa.\n",
    "\n",
    "3. Consideraciones Estratégicas\n",
    "\n",
    "    *   Evaluación de Eficiencia: Dado el alto gasto en algunas fuentes (como la fuente 3), sería importante evaluar la eficiencia de estas inversiones en términos de retorno sobre la inversión (ROI) y conversión de usuarios. Las fuentes con menor gasto también deben ser revisadas para asegurarse de que están alcanzando su potencial.\n",
    "\n",
    "    *   Diversificación de Estrategias: La variabilidad en los gastos sugiere que la empresa está probando diferentes estrategias en varias fuentes de marketing. Esta diversificación es positiva, pero debe estar acompañada de un análisis continuo para redirigir inversiones hacia las fuentes más rentables."
   ]
  },
  {
   "cell_type": "markdown",
   "metadata": {},
   "source": [
    "<div class=\"alert alert-block alert-success\">\n",
    "<b>Comentario del revisor</b> <a class=\"tocSkip\"></a>\n",
    "    \n",
    "Excelente trabajo\n",
    "</div>"
   ]
  },
  {
   "cell_type": "markdown",
   "metadata": {},
   "source": [
    "#### Economía unitaria por cliente: CAC"
   ]
  },
  {
   "cell_type": "markdown",
   "metadata": {},
   "source": [
    "El CAC (costo de adquisición de clientes/as) es el costo de atraer a cada cliente: el dinero que un/a nuevo/a cliente/a le cuesta a una empresa. La economía unitaria por cliente es sólida si el LTV es mayor que el CAC.\n",
    "\n",
    "$$\n",
    "LTV > CAC\n",
    "$$"
   ]
  },
  {
   "cell_type": "code",
   "execution_count": null,
   "metadata": {},
   "outputs": [],
   "source": [
    "# costs_us['month'] = pd.to_datetime(costs_us['month'], format=\"%Y-%m\")\n",
    "# costs_us.info()\n",
    "# # costs_us.head()"
   ]
  },
  {
   "cell_type": "code",
   "execution_count": null,
   "metadata": {},
   "outputs": [],
   "source": [
    "# report.head()\n",
    "# report.info()"
   ]
  },
  {
   "cell_type": "code",
   "execution_count": null,
   "metadata": {},
   "outputs": [],
   "source": [
    "def data_prep(device, visits, orders, costs_us, filter = False):\n",
    "\n",
    "\t# visits.info()\n",
    "\tif filter:\n",
    "\t\tvisits = visits.merge(orders, on= 'uid', how= 'inner')\n",
    "\t\t\n",
    "\telse:\n",
    "\t\tvisits = orders\n",
    "\t\tdevice = 'General'\n",
    "\t#\n",
    "\tvisits['order_month'] = pd.to_datetime(visits['buy_ts'], format=\"%Y-%m\").dt.date\n",
    "\tvisits['order_month'] = pd.to_datetime(visits['order_month'], format=\"%Y-%m\")\n",
    "\tvisits['order_month'] = visits['order_month'].dt.strftime('%Y-%m')\n",
    "\tvisits['order_month'] = pd.to_datetime(visits['order_month'], format=\"%Y-%m\")\n",
    "\t#\n",
    "\tif filter:\n",
    "\t\tvisits = visits[visits['device'] == device][['buy_ts','revenue', 'uid', 'order_month']]\n",
    "\t\tvisits = visits.drop_duplicates()\n",
    "\t#\n",
    "\tfirst_orders = visits.groupby('uid').agg({'order_month': 'min'}).reset_index()\n",
    "\tfirst_orders.columns = ['uid', 'first_order_month']\n",
    "\t#\n",
    "\tcohort_sizes = first_orders.groupby('first_order_month').agg({'uid': 'nunique'}).reset_index()\n",
    "\tcohort_sizes.columns = ['first_order_month', 'n_buyers']\n",
    "\t#\n",
    "\torders_ = pd.merge(visits,first_orders, on='uid')\n",
    "\t#\n",
    "\tcohorts = orders_.groupby(['first_order_month','order_month']).agg({'revenue': 'sum'}).reset_index()\n",
    "\t#\n",
    "\treport = pd.merge(cohort_sizes, cohorts, on='first_order_month')\n",
    "\treport['first_order_month'] =  pd.to_datetime(report['first_order_month'], format=\"%Y-%m\")\n",
    "\t#\n",
    "\tmargin_rate = 0.5\n",
    "\t#\n",
    "\treport['gp'] = report['revenue'] * margin_rate\n",
    "\treport['age'] = (\n",
    "\t    report['order_month'] - report['first_order_month']\n",
    "\t) / np.timedelta64(1, 'D') / 30\n",
    "\treport['age'] = report['age'].round().astype('int')\n",
    "\t#\n",
    "\treport['ltv'] = report['gp'] / report['n_buyers']\n",
    "\t#\n",
    "\tcosts_us['month'] = costs_us['dt'].dt.strftime('%Y-%m')\n",
    "\t#\n",
    "\tcosts_time = costs_us.groupby(['source_id','month'], observed= False).agg({'costs' : 'sum'}).reset_index()\n",
    "\tcosts_time['month'] = pd.to_datetime(costs_time['month'], format=\"%Y-%m\")\n",
    "\t#\n",
    "\tsources = costs_time['source_id'].unique()#.astype('str')\n",
    "\t#\n",
    "\tcosts_us['month'] = pd.to_datetime(costs_us['month'], format=\"%Y-%m\")\n",
    "\n",
    "\treturn report, costs_time, sources, visits, orders, costs_us, device\n"
   ]
  },
  {
   "cell_type": "code",
   "execution_count": null,
   "metadata": {},
   "outputs": [],
   "source": [
    "def marketing_metrics(costs, source, report, case = 1, pnt = False):\n",
    "    df = costs[costs['source_id'] == source][['month', 'costs']]\n",
    "    report_ = report.merge(df, left_on='first_order_month', right_on='month', how='inner')\n",
    "    report_ = report_.drop_duplicates()\n",
    "    report_['cac'] = report_['costs'] / report_['n_buyers']\n",
    "    \n",
    "    report_['romi'] = report_['ltv'] / report_['cac']\n",
    "    output = report_.pivot_table(\n",
    "    index='first_order_month', columns='age', values='romi', aggfunc='mean')\n",
    "    if(case == 1):\n",
    "        if(pnt):\n",
    "            print(report_)\n",
    "        return report_\n",
    "    if( case == 2):\n",
    "        if(pnt):\n",
    "            print(output)\n",
    "        return output"
   ]
  },
  {
   "cell_type": "code",
   "execution_count": null,
   "metadata": {},
   "outputs": [],
   "source": [
    "def filter_name(filter = 0):\n",
    "    if filter == 'desktop':\n",
    "        return 'Desktop_'\n",
    "    elif filter == 'touch':\n",
    "        return 'Touch_'\n",
    "    else:\n",
    "        return 'No_filter_'"
   ]
  },
  {
   "cell_type": "code",
   "execution_count": null,
   "metadata": {},
   "outputs": [],
   "source": [
    "# rep = marketing_metrics(costs_time,sources[0], 1, True)"
   ]
  },
  {
   "cell_type": "code",
   "execution_count": null,
   "metadata": {},
   "outputs": [],
   "source": [
    "# Volvemos a leer los archivos CSV para reiniciar los dataframes para limpiarlos de datos inecesarios\n",
    "[costs_us, orders, visits] = data_load()\n",
    "\n",
    "#imprimimos la lista de dispositivos\n",
    "print(visits['device'].unique(), f'\\n\\n')\n",
    "\n",
    "#Configuraciones para la función `data_prep` para aplicar el filtro deseado por dispositivo o no aplicar el filtro\n",
    "# apply_filter = True\n",
    "apply_filter = False\n",
    "# filter_nm = 'desktop'\n",
    "filter_nm = 'touch'\n",
    "\n",
    "# llamamos a la función `data_prep` para obtener las variables \n",
    "# necesarias y aplicar el filtro a los datos de ordenes para poder \n",
    "# calcular las métricas de marketing con la función `marketing_metrics`\n",
    "\n",
    "[report, costs_time, sources, visits, orders, costs_us, filter_report] = data_prep(filter_nm, visits, orders, costs_us, apply_filter)\n",
    "\n",
    "# print(visits.head())\n",
    "\n",
    "# rep = marketing_metrics(costs_time,sources[1], report, 1, True)"
   ]
  },
  {
   "cell_type": "code",
   "execution_count": null,
   "metadata": {},
   "outputs": [],
   "source": [
    "for source_ in sources:\n",
    "    rep = marketing_metrics(costs_time,source_, report, 1, False)\n",
    "    print(f'Costo de adquisisción de clientes de la fuente ' + source_ + ': ',rep['cac'].sum(), ' USD.')"
   ]
  },
  {
   "cell_type": "markdown",
   "metadata": {},
   "source": [
    "El análisis del Costo de Adquisición de Clientes (CAC) revela diferencias sustanciales en la eficiencia de las distintas fuentes de marketing utilizadas por la empresa:\n",
    "\n",
    "1. Fuentes de Bajo Costo:\n",
    "    *   Las fuentes 9 y 10 destacan por sus bajos CAC, con $12.16 USD y $12.82 USD respectivamente. Estas fuentes representan las opciones más económicas para adquirir nuevos clientes, lo que podría ser indicativo de una alta eficiencia en estas campañas o estrategias de marketing.\n",
    "\n",
    "2. Fuentes de Costo Moderado:\n",
    "    *   La fuente 1 tiene un CAC de $45.59 USD, lo cual es moderado en comparación con otras fuentes. Esta cifra sugiere que, aunque no es la más económica, podría estar obteniendo un balance aceptable entre costo y efectividad.\n",
    "\n",
    "3. Fuentes de Alto Costo:\n",
    "    *   Las fuentes 3, 4 y 5 presentan CAC significativamente altos, especialmente la fuente 3 con un CAC de $309.73 USD. La fuente 4 tiene un CAC de $139.47 USD, y la fuente 5 un CAC de $113.23 USD. Estos altos costos de adquisición pueden ser preocupantes, especialmente si no se justifican con un alto valor de vida del cliente (LTV).\n",
    "\n",
    "4. Estrategia de Optimización:\n",
    "    *   Dados los altos costos de algunas fuentes, la empresa debería considerar revisar su estrategia de asignación de presupuesto en marketing. Es posible que se deba reducir la inversión en las fuentes más costosas o encontrar maneras de optimizar su rendimiento para mejorar la eficiencia general del gasto en marketing."
   ]
  },
  {
   "cell_type": "markdown",
   "metadata": {},
   "source": [
    "<div class=\"alert alert-block alert-success\">\n",
    "<b>Comentario del revisor</b> <a class=\"tocSkip\"></a>\n",
    "    \n",
    "Bien calculado el CaC\n",
    "</div>"
   ]
  },
  {
   "cell_type": "markdown",
   "metadata": {},
   "source": [
    "#### Economía unitaria por cliente: ROMI"
   ]
  },
  {
   "cell_type": "markdown",
   "metadata": {},
   "source": [
    "El ROMI (Retorno de la Inversión en Marketing) es una métrica que mide la efectividad de una inversión en marketing al calcular el retorno generado por dicha inversión. Es similar al ROI (Return on Investment), pero específicamente aplicado a las actividades de marketing."
   ]
  },
  {
   "cell_type": "code",
   "execution_count": null,
   "metadata": {},
   "outputs": [],
   "source": [
    "for source_ in sources:\n",
    "    rep = marketing_metrics(costs_time,source_, report, 2, False)\n",
    "\n",
    "    rep.index = costs_time['month'].dt.strftime('%Y-%m').unique()\n",
    "\n",
    "    plt.figure(figsize=(9, 5))\n",
    "    # plt.title('')\n",
    "    ax = sns.heatmap(\n",
    "        rep,\n",
    "        annot=True,\n",
    "        fmt='.2f',\n",
    "        linewidths=1,\n",
    "        linecolor='gray',\n",
    "    )\n",
    "\n",
    "    filename = filter_name(filter_report) + 'heatmap_source_' + str(source_)\n",
    "\n",
    "    plt.title(('Retorno de la inversión en marketing (ROMI) de la fuente ' + str(source_) + ' (' + filter_report + ')'))\n",
    "\n",
    "    # print(filename)\n",
    "    # plt.savefig(f\"{filename}.png\")\n",
    "\n",
    "plt.show()"
   ]
  },
  {
   "cell_type": "markdown",
   "metadata": {},
   "source": [
    "<div class=\"alert alert-block alert-success\">\n",
    "<b>Comentario del revisor</b> <a class=\"tocSkip\"></a>\n",
    "    \n",
    "Muy buen trabajo con el ROMI\n",
    "</div>"
   ]
  },
  {
   "cell_type": "markdown",
   "metadata": {},
   "source": [
    "<div class=\"alert alert-block alert-danger\">\n",
    "<b>Comentario del revisor</b> <a class=\"tocSkip\"></a>\n",
    "    \n",
    "Con la url, puedes colocar la imagen en el notebook con la siguiente sintaxis:\n",
    "    \n",
    "    ![nombre_imagen](url)\n",
    "</div>"
   ]
  },
  {
   "cell_type": "markdown",
   "metadata": {},
   "source": [
    "<img src=\"https://raw.githubusercontent.com/UMonCar/Sprint8_Project/main/General_ROMI_group.png\" alt=\"General ROMI Group\" width=\"1000\"/>"
   ]
  },
  {
   "cell_type": "markdown",
   "metadata": {},
   "source": [
    "<div class=\"alert alert-block alert-info\">\n",
    "<b>Nota:</b> Precisamene utilizé dicho comando, sin embargo, subí la imagen a múltiples plataformas y siempretenía error o no aparecía la imagen, supongo que debe subirse a google o a otro medio más público, la verdad no he usado ese código con imagenes propias, intentaré con github. <a class=\"tocSkip\"></a>"
   ]
  },
  {
   "cell_type": "markdown",
   "metadata": {},
   "source": [
    "A partir de la información visualizada en las tablas pivote que muestran el ROMI de diferentes fuentes de marketing, se pueden extraer las siguientes conclusiones:\n",
    "\n",
    "1. Desempeño Consistente:\n",
    "    *   La fuente 9 muestra un ROMI consistentemente alto a lo largo del tiempo, especialmente en los primeros meses, alcanzando valores superiores a 16. Esto indica que la inversión en esta fuente es extremadamente rentable en el corto plazo, con un retorno significativo desde el primer mes.\n",
    "\n",
    "2. Crecimiento Moderado:\n",
    "    *   Las fuentes 1 y 5 presentan un ROMI moderado que se estabiliza rápidamente. Aunque no alcanzan valores tan altos como la fuente 9, su rentabilidad es aceptable y parece mantener una tendencia positiva, lo que sugiere que pueden ser fuentes confiables de retorno a mediano plazo.\n",
    "\n",
    "3. Fuentes Menos Eficientes:\n",
    "    *   Las fuentes 2, 3 y 4 muestran un ROMI bajo o fluctuante en comparación con otras fuentes. En particular, la fuente 3 tiene valores iniciales muy bajos y sólo muestra una ligera mejora en meses posteriores. Esto sugiere que estas fuentes podrían estar generando un retorno insuficiente en relación con la inversión, lo que podría justificar una reevaluación de su efectividad.\n",
    "\n",
    "4. Tendencias Positivas Tardías:\n",
    "    *   Aunque algunas fuentes como la fuente 10 empiezan con un ROMI bajo, muestran una mejora significativa con el tiempo, especialmente después del tercer o cuarto mes. Esto indica que estas fuentes pueden requerir un periodo de maduración más largo para que el retorno sobre la inversión sea visible, pero eventualmente pueden ofrecer buenos resultados.\n",
    "\n",
    "5. Variabilidad en el ROMI:\n",
    "    *   Existe una notable variabilidad en el ROMI no solo entre diferentes fuentes, sino también en diferentes periodos para la misma fuente. Esto sugiere que el éxito de las campañas de marketing puede depender de múltiples factores, incluyendo estacionalidad, cambios en la estrategia, o fluctuaciones en la demanda del mercado.\n",
    "\n",
    "6. Recomendaciones:\n",
    "    *   Optimizar la inversión en fuentes de alto rendimiento como la fuente 9, mientras se reduce o reevalúa la inversión en aquellas con un ROMI bajo, como la fuente 3.\n",
    "    *   Monitorear las tendencias de fuentes como la fuente 10, que muestran mejoras significativas a lo largo del tiempo, para capitalizar en su rendimiento futuro.\n",
    "    *   Realizar ajustes estratégicos en las campañas de las fuentes con menor rendimiento para intentar mejorar su ROMI o considerar la redistribución del presupuesto hacia fuentes más eficientes."
   ]
  },
  {
   "cell_type": "markdown",
   "metadata": {},
   "source": [
    "<img src=\"https://raw.githubusercontent.com/UMonCar/Sprint8_Project/main/Desktop_ROMI_group.png\" alt=\"Desktop ROMI Group\" width=\"1000\"/>"
   ]
  },
  {
   "cell_type": "markdown",
   "metadata": {},
   "source": [
    "A partir de la visualización de las tablas pivote que muestran el ROMI de diferentes fuentes de marketing en dispositivos de escritorio (desktop), se pueden extraer las siguientes conclusiones:\n",
    "\n",
    "1. Desempeño Consistente y Alto Retorno:\n",
    "    *   La fuente 9 nuevamente destaca con un ROMI muy alto, especialmente en los primeros meses, con valores que superan ampliamente el 15. Esto indica que las campañas en esta fuente son altamente rentables en dispositivos de escritorio, y el retorno es sustancial desde el principio.\n",
    "\n",
    "2. Crecimiento Gradual:\n",
    "    *   Las fuentes 1 y 5 presentan un crecimiento gradual en su ROMI, manteniendo valores moderados pero consistentes a lo largo del tiempo. Aunque no alcanzan los niveles de la fuente 9, su comportamiento sugiere una estabilidad y una rentabilidad que puede ser confiable a mediano y largo plazo.\n",
    "\n",
    "3. Fuentes con Rendimiento Limitado:\n",
    "    *   Las fuentes 2, 3 y 4 muestran un ROMI bajo en general, con algunas fluctuaciones y pequeñas mejoras en ciertos periodos. Esto sugiere que estas fuentes podrían no estar generando el retorno esperado en la inversión realizada para dispositivos de escritorio, lo que podría justificar una reevaluación de las estrategias aplicadas en estas plataformas.\n",
    "\n",
    "4. Tendencias Tardías en el ROMI:\n",
    "    *   La fuente 10 muestra un patrón interesante donde los primeros meses presentan un ROMI bajo, pero después de aproximadamente seis meses, se observa una mejora significativa. Esto indica que las campañas en esta fuente pueden necesitar más tiempo para madurar y comenzar a ofrecer un retorno significativo.\n",
    "\n",
    "5. Variabilidad en el Retorno:\n",
    "    *   Existe una alta variabilidad en el ROMI tanto entre diferentes fuentes como en diferentes periodos dentro de la misma fuente. Este patrón sugiere que el rendimiento de las campañas de marketing en dispositivos de escritorio puede estar influenciado por múltiples factores, como la estacionalidad, los cambios en la demanda, o las modificaciones en las estrategias publicitarias.\n",
    "\n",
    "6. Recomendaciones:\n",
    "    *   Maximizar la inversión en la fuente 9, ya que consistentemente demuestra ser la más rentable, especialmente en dispositivos de escritorio.\n",
    "    *   Monitorear y ajustar las campañas en fuentes como la 1 y la 5, que muestran un crecimiento estable y podrían beneficiarse de inversiones adicionales para optimizar aún más su retorno.\n",
    "    *   Reevaluar la estrategia para las fuentes 2, 3 y 4, dado su bajo rendimiento, con el fin de determinar si es más eficiente redirigir los recursos a fuentes más efectivas o mejorar las campañas actuales.\n",
    "    *   Aprovechar el potencial de fuentes como la 10 para periodos más largos, ya que, aunque su ROMI inicial es bajo, mejora significativamente con el tiempo."
   ]
  },
  {
   "cell_type": "markdown",
   "metadata": {},
   "source": [
    "<img src=\"https://raw.githubusercontent.com/UMonCar/Sprint8_Project/main/Touch_ROMI_group.png\" alt=\"Touch ROMI Group\" width=\"1000\"/>"
   ]
  },
  {
   "cell_type": "markdown",
   "metadata": {},
   "source": [
    "Al analizar las tablas pivote que representan el ROMI de diferentes fuentes de marketing en dispositivos táctiles (touch), se pueden extraer las siguientes conclusiones:\n",
    "\n",
    "1. Rendimiento Bajo y Negativo en la Mayoría de las Fuentes:\n",
    "    *   La mayoría de las fuentes, especialmente las fuentes 1, 2, 3, 4 y 5, muestran un ROMI consistentemente bajo e incluso negativo en varios meses. Esto sugiere que las campañas en estas fuentes están generando pérdidas en lugar de beneficios en los dispositivos táctiles, lo que indica un rendimiento subóptimo en estos canales.\n",
    "\n",
    "2. La Excepción Notable: Fuente 10:\n",
    "    *   La fuente 10 es una excepción destacada, con un ROMI relativamente alto en comparación con las otras fuentes. Aunque los primeros meses muestran valores más bajos, el ROMI aumenta considerablemente en los meses posteriores, indicando un potencial retorno positivo en dispositivos táctiles para esta fuente.\n",
    "\n",
    "3. Rendimiento Volátil en la Fuente 9:\n",
    "    *   La fuente 9 presenta una mezcla de resultados, con algunos periodos de alto ROMI (especialmente en los primeros meses de ciertas cohortes) seguidos de caídas significativas. Esto sugiere una alta volatilidad en el rendimiento de las campañas en esta fuente para dispositivos táctiles.\n",
    "\n",
    "4. Estancamiento y Declive en el Tiempo:\n",
    "    *   Un patrón común entre la mayoría de las fuentes es que el ROMI tiende a disminuir o mantenerse estancado con el tiempo, sin mostrar una recuperación significativa. Esto indica que las campañas no logran mejorar su efectividad en dispositivos táctiles a medida que pasa el tiempo, lo que podría ser un signo de saturación del mercado o de ineficiencias en la estrategia de marketing.\n",
    "\n",
    "5. Comparación con Otros Dispositivos:\n",
    "    *   En comparación con las métricas de ROMI para desktop y general, el rendimiento en dispositivos táctiles es considerablemente peor. Esto sugiere que las estrategias de marketing que funcionan en otros dispositivos no se traducen bien a los dispositivos táctiles, y podría ser necesario rediseñar las campañas para este segmento específico.\n",
    "\n",
    "6. Recomendaciones:\n",
    "    *   Reevaluar y optimizar las campañas en dispositivos táctiles para las fuentes 1, 2, 3, 4 y 5, ya que están generando un retorno negativo o bajo, lo que indica que los recursos pueden estar mejor invertidos en otros canales o en ajustar las estrategias actuales.\n",
    "    *   Aumentar la inversión en la fuente 10 en dispositivos táctiles, dado su rendimiento relativamente superior, con la posibilidad de obtener un retorno positivo a largo plazo.\n",
    "    *   Monitorear de cerca la fuente 9 debido a su volatilidad, y considerar estrategias de mitigación de riesgos, como la diversificación o el ajuste de la segmentación, para estabilizar el rendimiento.\n",
    "    *   Rediseñar las campañas específicamente para dispositivos táctiles, enfocándose en las características únicas de estos dispositivos, como la usabilidad, la experiencia del usuario y los patrones de comportamiento, para intentar mejorar el ROMI en estos canales."
   ]
  },
  {
   "cell_type": "markdown",
   "metadata": {},
   "source": [
    "## Conclusiones"
   ]
  },
  {
   "cell_type": "markdown",
   "metadata": {},
   "source": [
    "En conjunto, las `métricas de actividad de los asuarios` indican una base de usuarios leal y activa que interactúa regularmente con los servicios de la empresa. La estabilidad en las sesiones diarias y la duración promedio de las mismas refleja una experiencia de usuario efectiva. Sin embargo, la empresa podría explorar estrategias para aumentar el número de usuarios que utilizan los servicios de forma diaria, buscando convertir más usuarios semanales y mensuales en usuarios diarios. Esto podría mejorar aún más el compromiso y la retención a largo plazo.\n",
    "\n",
    "Los datos sugieren que, aunque la empresa tiene un grupo pequeño pero comprometido de usuarios que regresan y realizan compras, hay un área significativa de mejora en la retención general y la conversión de usuarios en clientes recurrentes. Fomentar una mayor retención y mejorar la tasa de compra repetida debería ser una prioridad estratégica. Esto podría implicar mejoras en la experiencia de usuario, comunicación personalizada, incentivos para la repetición de compras, y análisis más profundo de los factores que impulsan el compromiso de los usuarios actuales.\n",
    "\n",
    "Las fuentes de marketing con alta tasa de conversión deben ser priorizadas en las estrategias de marketing, mientras que las de baja conversión deberían ser revisadas o ajustadas. La mayoría de los usuarios se convierten rápidamente, pero una proporción significativa requiere más tiempo. Implementar estrategias para acelerar el proceso de conversión para los usuarios que tardan más tiempo y mantener el enfoque en las fuentes de marketing más efectivas son pasos clave para mejorar la eficiencia y efectividad en la conversión de usuarios.\n",
    "\n",
    "En general, la empresa presenta una tendencia de disminución del LTV después del primer mes, con variabilidad significativa entre cohortes. Es crucial que se revisen las estrategias de retención y adquisición de usuarios para maximizar el LTV y asegurar el crecimiento sostenible a largo plazo.\n",
    "\n",
    "En general, la empresa está invirtiendo fuertemente en ciertas fuentes de marketing, especialmente la fuente 3, mientras que otras fuentes reciben un menor enfoque. La tendencia de gasto ascendente hacia finales de 2017, seguida de una estabilización en 2018, sugiere una fase inicial de inversión intensiva seguida de un ajuste estratégico. Es crucial que la empresa continúe evaluando el rendimiento de estas inversiones para optimizar el uso de los recursos y maximizar los resultados.\n",
    "\n",
    "La empresa tiene una mezcla de fuentes de marketing con variabilidad en su eficiencia de adquisición de clientes. El enfoque debería estar en optimizar la inversión en fuentes de alto costo y maximizar el retorno de aquellas que ya son más eficientes.\n",
    "\n",
    "El rendimiento del ROMI varía considerablemente entre las diferentes fuentes de marketing. Algunas fuentes muestran un alto retorno inicial que tiende a disminuir con el tiempo, mientras que otras mantienen un rendimiento más consistente pero con menor retorno general. Esto indica la necesidad de ajustar y monitorear las estrategias de marketing según la fuente para maximizar el retorno.\n",
    "\n",
    "Las campañas de marketing en dispositivos táctiles presentan un rendimiento generalmente bajo y, en muchos casos, negativo en la mayoría de las fuentes. La fuente 10 es una excepción, con un rendimiento relativamente mejor. Sin embargo, en general, se recomienda reevaluar y optimizar las campañas para mejorar el ROMI en estos dispositivos, ya que los resultados actuales indican ineficiencia y la posibilidad de obtener mejores retornos con un enfoque adaptado.\n",
    "\n",
    "Este resumen sugiere que las estrategias de adquisición y marketing requieren ajustes específicos según la fuente y el dispositivo para mejorar la eficiencia y maximizar los retornos."
   ]
  },
  {
   "cell_type": "markdown",
   "metadata": {},
   "source": []
  },
  {
   "cell_type": "markdown",
   "metadata": {},
   "source": [
    "<div class=\"alert alert-block alert-success\">\n",
    "<b>Comentario del revisor</b> <a class=\"tocSkip\"></a>\n",
    "    \n",
    "hicisste un excelente trabajo y tus conclusiones son muy completas! felicidades\n",
    "</div>"
   ]
  },
  {
   "cell_type": "code",
   "execution_count": null,
   "metadata": {},
   "outputs": [],
   "source": []
  }
 ],
 "metadata": {
  "ExecuteTimeLog": [
   {
    "duration": 5110,
    "start_time": "2024-08-20T14:54:43.540Z"
   },
   {
    "duration": 6,
    "start_time": "2024-08-20T14:54:55.781Z"
   },
   {
    "duration": 3,
    "start_time": "2024-08-20T14:55:01.984Z"
   },
   {
    "duration": 4,
    "start_time": "2024-08-20T14:55:02.194Z"
   },
   {
    "duration": 4,
    "start_time": "2024-08-20T14:55:02.422Z"
   },
   {
    "duration": 1151,
    "start_time": "2024-08-20T14:55:02.934Z"
   },
   {
    "duration": 0,
    "start_time": "2024-08-20T14:55:04.088Z"
   },
   {
    "duration": 6,
    "start_time": "2024-08-20T14:56:35.301Z"
   },
   {
    "duration": 3,
    "start_time": "2024-08-20T14:56:35.674Z"
   },
   {
    "duration": 3,
    "start_time": "2024-08-20T14:56:35.929Z"
   },
   {
    "duration": 4,
    "start_time": "2024-08-20T14:56:36.104Z"
   },
   {
    "duration": 142,
    "start_time": "2024-08-20T14:56:37.019Z"
   },
   {
    "duration": 6,
    "start_time": "2024-08-20T14:56:51.321Z"
   },
   {
    "duration": 3,
    "start_time": "2024-08-20T14:56:51.804Z"
   },
   {
    "duration": 3,
    "start_time": "2024-08-20T14:56:51.963Z"
   },
   {
    "duration": 3,
    "start_time": "2024-08-20T14:56:52.100Z"
   },
   {
    "duration": 886,
    "start_time": "2024-08-20T14:56:52.229Z"
   },
   {
    "duration": 138,
    "start_time": "2024-08-20T14:56:54.834Z"
   },
   {
    "duration": 246,
    "start_time": "2024-08-20T15:07:41.471Z"
   },
   {
    "duration": 376,
    "start_time": "2024-08-20T15:07:41.801Z"
   },
   {
    "duration": 6,
    "start_time": "2024-08-20T15:07:42.278Z"
   },
   {
    "duration": 137,
    "start_time": "2024-08-20T15:07:42.887Z"
   },
   {
    "duration": 11,
    "start_time": "2024-08-20T15:07:43.341Z"
   },
   {
    "duration": 153,
    "start_time": "2024-08-20T15:08:48.969Z"
   },
   {
    "duration": 22,
    "start_time": "2024-08-20T15:08:49.277Z"
   },
   {
    "duration": 6,
    "start_time": "2024-08-20T15:08:49.915Z"
   },
   {
    "duration": 242,
    "start_time": "2024-08-20T15:21:33.270Z"
   },
   {
    "duration": 77,
    "start_time": "2024-08-20T15:21:33.603Z"
   },
   {
    "duration": 145,
    "start_time": "2024-08-20T15:21:33.845Z"
   },
   {
    "duration": 135,
    "start_time": "2024-08-20T15:21:34.442Z"
   },
   {
    "duration": 127,
    "start_time": "2024-08-20T15:21:34.875Z"
   },
   {
    "duration": 450,
    "start_time": "2024-08-20T15:21:35.608Z"
   },
   {
    "duration": 18,
    "start_time": "2024-08-20T15:21:36.070Z"
   },
   {
    "duration": 9,
    "start_time": "2024-08-20T15:21:36.609Z"
   },
   {
    "duration": 317,
    "start_time": "2024-08-20T15:21:37.129Z"
   },
   {
    "duration": 33,
    "start_time": "2024-08-20T15:21:37.672Z"
   },
   {
    "duration": 14,
    "start_time": "2024-08-20T15:21:38.123Z"
   },
   {
    "duration": 291,
    "start_time": "2024-08-20T15:21:38.763Z"
   },
   {
    "duration": 138,
    "start_time": "2024-08-20T15:21:39.208Z"
   },
   {
    "duration": 377,
    "start_time": "2024-08-20T15:21:39.974Z"
   },
   {
    "duration": 27,
    "start_time": "2024-08-20T15:21:44.616Z"
   },
   {
    "duration": 3,
    "start_time": "2024-08-20T15:21:44.981Z"
   },
   {
    "duration": 5,
    "start_time": "2024-08-20T15:21:45.924Z"
   },
   {
    "duration": 16,
    "start_time": "2024-08-20T15:21:46.765Z"
   },
   {
    "duration": 408,
    "start_time": "2024-08-20T15:21:47.041Z"
   },
   {
    "duration": 36,
    "start_time": "2024-08-20T15:21:47.452Z"
   },
   {
    "duration": 18,
    "start_time": "2024-08-20T15:21:47.723Z"
   },
   {
    "duration": 27,
    "start_time": "2024-08-20T15:21:48.117Z"
   },
   {
    "duration": 20,
    "start_time": "2024-08-20T15:21:48.493Z"
   },
   {
    "duration": 21,
    "start_time": "2024-08-20T15:21:49.018Z"
   },
   {
    "duration": 20,
    "start_time": "2024-08-20T15:21:49.621Z"
   },
   {
    "duration": 16,
    "start_time": "2024-08-20T15:21:50.262Z"
   },
   {
    "duration": 36,
    "start_time": "2024-08-20T15:21:50.954Z"
   },
   {
    "duration": 6,
    "start_time": "2024-08-20T15:30:59.992Z"
   },
   {
    "duration": 11,
    "start_time": "2024-08-20T15:31:00.571Z"
   },
   {
    "duration": 299,
    "start_time": "2024-08-20T15:31:00.827Z"
   },
   {
    "duration": 23,
    "start_time": "2024-08-20T15:31:01.201Z"
   },
   {
    "duration": 4,
    "start_time": "2024-08-20T15:31:01.560Z"
   },
   {
    "duration": 20,
    "start_time": "2024-08-20T15:31:02.194Z"
   },
   {
    "duration": 6,
    "start_time": "2024-08-20T15:31:02.593Z"
   },
   {
    "duration": 414,
    "start_time": "2024-08-20T15:31:02.874Z"
   },
   {
    "duration": 3,
    "start_time": "2024-08-20T15:31:08.935Z"
   },
   {
    "duration": 3,
    "start_time": "2024-08-20T15:31:09.152Z"
   },
   {
    "duration": 15,
    "start_time": "2024-08-20T15:31:09.423Z"
   },
   {
    "duration": 6,
    "start_time": "2024-08-20T15:31:09.920Z"
   },
   {
    "duration": 4,
    "start_time": "2024-08-20T15:31:10.250Z"
   },
   {
    "duration": 3,
    "start_time": "2024-08-20T15:31:10.641Z"
   },
   {
    "duration": 1221,
    "start_time": "2024-08-20T15:31:11.056Z"
   },
   {
    "duration": 152,
    "start_time": "2024-08-20T15:31:12.281Z"
   },
   {
    "duration": 7239,
    "start_time": "2024-08-20T15:31:53.213Z"
   },
   {
    "duration": 195,
    "start_time": "2024-08-20T15:32:00.467Z"
   },
   {
    "duration": 0,
    "start_time": "2024-08-20T15:32:00.668Z"
   },
   {
    "duration": 0,
    "start_time": "2024-08-20T15:32:00.671Z"
   },
   {
    "duration": 1404,
    "start_time": "2024-08-20T15:35:14.056Z"
   },
   {
    "duration": 6,
    "start_time": "2024-08-20T15:35:15.464Z"
   },
   {
    "duration": 4,
    "start_time": "2024-08-20T15:35:15.474Z"
   },
   {
    "duration": 3,
    "start_time": "2024-08-20T15:35:15.484Z"
   },
   {
    "duration": 4,
    "start_time": "2024-08-20T15:35:15.490Z"
   },
   {
    "duration": 1219,
    "start_time": "2024-08-20T15:35:15.498Z"
   },
   {
    "duration": 0,
    "start_time": "2024-08-20T15:35:16.725Z"
   },
   {
    "duration": 0,
    "start_time": "2024-08-20T15:35:16.726Z"
   },
   {
    "duration": 0,
    "start_time": "2024-08-20T15:35:16.729Z"
   },
   {
    "duration": 0,
    "start_time": "2024-08-20T15:35:16.732Z"
   },
   {
    "duration": 0,
    "start_time": "2024-08-20T15:35:16.735Z"
   },
   {
    "duration": 0,
    "start_time": "2024-08-20T15:35:16.737Z"
   },
   {
    "duration": 0,
    "start_time": "2024-08-20T15:35:16.739Z"
   },
   {
    "duration": 0,
    "start_time": "2024-08-20T15:35:16.768Z"
   },
   {
    "duration": 0,
    "start_time": "2024-08-20T15:35:16.770Z"
   },
   {
    "duration": 1,
    "start_time": "2024-08-20T15:35:16.772Z"
   },
   {
    "duration": 0,
    "start_time": "2024-08-20T15:35:16.776Z"
   },
   {
    "duration": 0,
    "start_time": "2024-08-20T15:35:16.779Z"
   },
   {
    "duration": 0,
    "start_time": "2024-08-20T15:35:16.782Z"
   },
   {
    "duration": 0,
    "start_time": "2024-08-20T15:35:16.784Z"
   },
   {
    "duration": 0,
    "start_time": "2024-08-20T15:35:16.786Z"
   },
   {
    "duration": 0,
    "start_time": "2024-08-20T15:35:16.789Z"
   },
   {
    "duration": 0,
    "start_time": "2024-08-20T15:35:16.791Z"
   },
   {
    "duration": 0,
    "start_time": "2024-08-20T15:35:16.793Z"
   },
   {
    "duration": 0,
    "start_time": "2024-08-20T15:35:16.795Z"
   },
   {
    "duration": 0,
    "start_time": "2024-08-20T15:35:16.799Z"
   },
   {
    "duration": 0,
    "start_time": "2024-08-20T15:35:16.801Z"
   },
   {
    "duration": 0,
    "start_time": "2024-08-20T15:35:16.803Z"
   },
   {
    "duration": 0,
    "start_time": "2024-08-20T15:35:16.805Z"
   },
   {
    "duration": 0,
    "start_time": "2024-08-20T15:35:16.807Z"
   },
   {
    "duration": 0,
    "start_time": "2024-08-20T15:35:16.809Z"
   },
   {
    "duration": 0,
    "start_time": "2024-08-20T15:35:16.869Z"
   },
   {
    "duration": 0,
    "start_time": "2024-08-20T15:35:16.872Z"
   },
   {
    "duration": 0,
    "start_time": "2024-08-20T15:35:16.874Z"
   },
   {
    "duration": 1,
    "start_time": "2024-08-20T15:35:16.876Z"
   },
   {
    "duration": 0,
    "start_time": "2024-08-20T15:35:16.879Z"
   },
   {
    "duration": 0,
    "start_time": "2024-08-20T15:35:16.882Z"
   },
   {
    "duration": 0,
    "start_time": "2024-08-20T15:35:16.885Z"
   },
   {
    "duration": 0,
    "start_time": "2024-08-20T15:35:16.887Z"
   },
   {
    "duration": 0,
    "start_time": "2024-08-20T15:35:16.890Z"
   },
   {
    "duration": 0,
    "start_time": "2024-08-20T15:35:16.892Z"
   },
   {
    "duration": 0,
    "start_time": "2024-08-20T15:35:16.894Z"
   },
   {
    "duration": 0,
    "start_time": "2024-08-20T15:35:16.896Z"
   },
   {
    "duration": 0,
    "start_time": "2024-08-20T15:35:16.899Z"
   },
   {
    "duration": 0,
    "start_time": "2024-08-20T15:35:16.902Z"
   },
   {
    "duration": 0,
    "start_time": "2024-08-20T15:35:16.968Z"
   },
   {
    "duration": 0,
    "start_time": "2024-08-20T15:35:16.971Z"
   },
   {
    "duration": 0,
    "start_time": "2024-08-20T15:35:16.973Z"
   },
   {
    "duration": 0,
    "start_time": "2024-08-20T15:35:16.976Z"
   },
   {
    "duration": 0,
    "start_time": "2024-08-20T15:35:16.978Z"
   },
   {
    "duration": 0,
    "start_time": "2024-08-20T15:35:16.981Z"
   },
   {
    "duration": 0,
    "start_time": "2024-08-20T15:35:16.983Z"
   },
   {
    "duration": 0,
    "start_time": "2024-08-20T15:35:16.985Z"
   },
   {
    "duration": 0,
    "start_time": "2024-08-20T15:35:16.986Z"
   },
   {
    "duration": 0,
    "start_time": "2024-08-20T15:35:16.988Z"
   },
   {
    "duration": 0,
    "start_time": "2024-08-20T15:35:16.991Z"
   },
   {
    "duration": 0,
    "start_time": "2024-08-20T15:35:16.993Z"
   },
   {
    "duration": 0,
    "start_time": "2024-08-20T15:35:16.994Z"
   },
   {
    "duration": 0,
    "start_time": "2024-08-20T15:35:16.996Z"
   },
   {
    "duration": 0,
    "start_time": "2024-08-20T15:35:16.999Z"
   },
   {
    "duration": 0,
    "start_time": "2024-08-20T15:35:17.000Z"
   },
   {
    "duration": 1,
    "start_time": "2024-08-20T15:35:17.006Z"
   }
  ],
  "kernelspec": {
   "display_name": "Python 3 (ipykernel)",
   "language": "python",
   "name": "python3"
  },
  "language_info": {
   "codemirror_mode": {
    "name": "ipython",
    "version": 3
   },
   "file_extension": ".py",
   "mimetype": "text/x-python",
   "name": "python",
   "nbconvert_exporter": "python",
   "pygments_lexer": "ipython3",
   "version": "3.12.0"
  },
  "toc": {
   "base_numbering": 1,
   "nav_menu": {},
   "number_sections": true,
   "sideBar": true,
   "skip_h1_title": true,
   "title_cell": "Table of Contents",
   "title_sidebar": "Contents",
   "toc_cell": false,
   "toc_position": {},
   "toc_section_display": true,
   "toc_window_display": false
  }
 },
 "nbformat": 4,
 "nbformat_minor": 2
}
